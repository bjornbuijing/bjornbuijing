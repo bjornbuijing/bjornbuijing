{
 "cells": [
  {
   "cell_type": "code",
   "execution_count": 41,
   "metadata": {},
   "outputs": [
    {
     "name": "stdout",
     "output_type": "stream",
     "text": [
      "The autoreload extension is already loaded. To reload it, use:\n",
      "  %reload_ext autoreload\n",
      "11.3\n"
     ]
    }
   ],
   "source": [
    "%load_ext autoreload\n",
    "%autoreload 2\n",
    "\n",
    "import torch\n",
    "from torch import nn\n",
    "import gin\n",
    "from DataUtils.Getdata import GetDataSets\n",
    "from DataUtils.Getdata import ModuleTest\n",
    "from Models.LineairModelCollection import CNN\n",
    "import Models.LineairModelCollection\n",
    "\n",
    "print(torch.version.cuda)\n",
    "gin.enter_interactive_mode()\n"
   ]
  },
  {
   "cell_type": "code",
   "execution_count": 42,
   "metadata": {},
   "outputs": [],
   "source": [
    "gin.parse_config_file(\"config.gin\")"
   ]
  },
  {
   "cell_type": "code",
   "execution_count": 43,
   "metadata": {},
   "outputs": [
    {
     "name": "stdout",
     "output_type": "stream",
     "text": [
      "PLEASE DO SOMETHING ELSE!!!!!!!!\n"
     ]
    }
   ],
   "source": [
    "# testing gin\n",
    "from Models.LineairModelCollection import TestGin\n",
    "TestGin()"
   ]
  },
  {
   "cell_type": "code",
   "execution_count": 44,
   "metadata": {},
   "outputs": [
    {
     "name": "stdout",
     "output_type": "stream",
     "text": [
      "Wat doet python als we iets veranderen?!?!?!\n"
     ]
    }
   ],
   "source": [
    "ModuleTest()"
   ]
  },
  {
   "cell_type": "code",
   "execution_count": 45,
   "metadata": {},
   "outputs": [
    {
     "data": {
      "text/plain": [
       "True"
      ]
     },
     "execution_count": 45,
     "metadata": {},
     "output_type": "execute_result"
    }
   ],
   "source": [
    "torch.cuda.is_available()"
   ]
  },
  {
   "cell_type": "code",
   "execution_count": 46,
   "metadata": {},
   "outputs": [],
   "source": [
    "\n",
    "# Get cpu or gpu device for training.\n",
    "device = \"cuda\" if torch.cuda.is_available() else \"cpu\""
   ]
  },
  {
   "cell_type": "code",
   "execution_count": 47,
   "metadata": {},
   "outputs": [],
   "source": [
    "batch_size=64\n",
    "train_dataloader,test_dataloader = GetDataSets(batch_size, device)"
   ]
  },
  {
   "cell_type": "code",
   "execution_count": 48,
   "metadata": {},
   "outputs": [
    {
     "data": {
      "text/plain": [
       "torchvision.datasets.mnist.FashionMNIST"
      ]
     },
     "execution_count": 48,
     "metadata": {},
     "output_type": "execute_result"
    }
   ],
   "source": [
    "train_dataloader.dataset\n",
    "type(train_dataloader.dataset)"
   ]
  },
  {
   "cell_type": "code",
   "execution_count": 49,
   "metadata": {},
   "outputs": [
    {
     "name": "stdout",
     "output_type": "stream",
     "text": [
      "CNN(\n",
      "  (convolutions): Sequential(\n",
      "    (0): Conv2d(1, 32, kernel_size=(3, 3), stride=(1, 1), padding=(1, 1))\n",
      "    (1): ReLU()\n",
      "    (2): MaxPool2d(kernel_size=2, stride=2, padding=0, dilation=1, ceil_mode=False)\n",
      "    (3): Conv2d(32, 32, kernel_size=(3, 3), stride=(1, 1))\n",
      "    (4): ReLU()\n",
      "    (5): MaxPool2d(kernel_size=2, stride=2, padding=0, dilation=1, ceil_mode=False)\n",
      "    (6): Conv2d(32, 32, kernel_size=(3, 3), stride=(1, 1))\n",
      "    (7): ReLU()\n",
      "    (8): MaxPool2d(kernel_size=2, stride=2, padding=0, dilation=1, ceil_mode=False)\n",
      "  )\n",
      "  (dense): Sequential(\n",
      "    (0): Flatten(start_dim=1, end_dim=-1)\n",
      "    (1): Linear(in_features=128, out_features=64, bias=True)\n",
      "    (2): ReLU()\n",
      "    (3): Linear(in_features=64, out_features=32, bias=True)\n",
      "    (4): ReLU()\n",
      "    (5): Linear(in_features=32, out_features=10, bias=True)\n",
      "  )\n",
      ")\n"
     ]
    },
    {
     "data": {
      "text/plain": [
       "CrossEntropyLoss()"
      ]
     },
     "execution_count": 49,
     "metadata": {},
     "output_type": "execute_result"
    }
   ],
   "source": [
    "from Models.LineairModelCollection import CNN  \n",
    "model = CNN().to(device)\n",
    "model.cuda()\n",
    "print(model)\n",
    "\n",
    "from Training.trainer import RunTrainer\n",
    "import torch.optim as optim\n",
    "adamOpt = optim.Adam\n",
    "lossCross = torch.nn.CrossEntropyLoss()\n",
    "lossCross.cuda()\n",
    " \n",
    "#RunTrainer(model=model, \n",
    "#           train_dataloader=train_dataloader,\n",
    "#           test_dataloader=test_dataloader,\n",
    "#           learning_rate=globaLlr,\n",
    "#           epochs=globalEpochs,\n",
    "#           optimizer=adamOpt,\n",
    "#           loss_fn=lossCross,\n",
    "#           eval_steps=3,\n",
    "#           device=device,\n",
    "#           )"
   ]
  },
  {
   "cell_type": "code",
   "execution_count": 50,
   "metadata": {},
   "outputs": [
    {
     "data": {
      "text/plain": [
       "torch.Size([64, 784])"
      ]
     },
     "execution_count": 50,
     "metadata": {},
     "output_type": "execute_result"
    }
   ],
   "source": [
    "X, y = next(iter(train_dataloader))\n",
    "X.shape, y.shape\n",
    "\n",
    "flat = nn.Flatten()\n",
    "z = flat(X)\n",
    "z.shape"
   ]
  },
  {
   "cell_type": "code",
   "execution_count": 51,
   "metadata": {},
   "outputs": [
    {
     "data": {
      "text/plain": [
       "torch.Size([1, 28, 28])"
      ]
     },
     "execution_count": 51,
     "metadata": {},
     "output_type": "execute_result"
    }
   ],
   "source": [
    "img = X[0]\n",
    "img.shape"
   ]
  },
  {
   "cell_type": "code",
   "execution_count": 52,
   "metadata": {},
   "outputs": [
    {
     "data": {
      "text/plain": [
       "<matplotlib.image.AxesImage at 0x2514e15b1f0>"
      ]
     },
     "execution_count": 52,
     "metadata": {},
     "output_type": "execute_result"
    },
    {
     "data": {
      "image/png": "[encoded data removed]",
      "text/plain": [
       "<Figure size 432x288 with 1 Axes>"
      ]
     },
     "metadata": {
      "needs_background": "light"
     },
     "output_type": "display_data"
    }
   ],
   "source": [
    "import matplotlib.pyplot as plt\n",
    "plt.imshow(img.squeeze(), cmap=\"gray\")"
   ]
  },
  {
   "cell_type": "code",
   "execution_count": 64,
   "metadata": {},
   "outputs": [
    {
     "name": "stdout",
     "output_type": "stream",
     "text": [
      "torch.Size([64, 32, 14, 14])\n",
      "torch.Size([64, 64, 7, 7])\n",
      "torch.Size([64, 3136])\n"
     ]
    }
   ],
   "source": [
    "\n",
    "conv2d1 = nn.Conv2d(1, 32, kernel_size=3, stride=1, padding=1)\n",
    "conv2d2 = nn.Conv2d(32, 64, kernel_size=3, stride=2, padding=1)\n",
    "\n",
    "maxp = nn.MaxPool2d(kernel_size=2)\n",
    "z = conv2d1(X)\n",
    "z.shape\n",
    "z = maxp(z)\n",
    "print(z.shape)\n",
    "z = conv2d2(z)\n",
    "print(z.shape)\n",
    "\n",
    "z2 = flat(z)\n",
    "print(z2.shape)"
   ]
  },
  {
   "cell_type": "code",
   "execution_count": 54,
   "metadata": {},
   "outputs": [],
   "source": [
    "globaLlr = 0.02\n",
    "globalEpochs = 50\n",
    "globalsteps = 5"
   ]
  },
  {
   "cell_type": "code",
   "execution_count": 63,
   "metadata": {},
   "outputs": [
    {
     "name": "stderr",
     "output_type": "stream",
     "text": [
      "2022-05-19 14:23:31.665 | INFO     | Training.trainer:clean_dir:24 - Clean out ..\\trained_models\\BRBConvolutionalHigh\\20220519-1423\n",
      "2022-05-19 14:23:31.667 | INFO     | Training.trainer:RunTrainer:71 - Logging to ..\\trained_models\\BRBConvolutionalHigh\\20220519-1423\n"
     ]
    },
    {
     "name": "stdout",
     "output_type": "stream",
     "text": [
      "BRBConvolutionalHigh(\n",
      "  (dense): Sequential(\n",
      "    (0): Flatten(start_dim=1, end_dim=-1)\n",
      "    (1): Linear(in_features=576, out_features=784, bias=True)\n",
      "    (2): ReLU()\n",
      "    (3): Linear(in_features=784, out_features=784, bias=True)\n",
      "    (4): ReLU()\n",
      "    (5): Linear(in_features=784, out_features=784, bias=True)\n",
      "    (6): ReLU()\n",
      "    (7): Linear(in_features=784, out_features=784, bias=True)\n",
      "    (8): ReLU()\n",
      "    (9): Linear(in_features=784, out_features=392, bias=True)\n",
      "    (10): ReLU()\n",
      "    (11): Linear(in_features=392, out_features=10, bias=True)\n",
      "  )\n",
      "  (classifier): Sequential(\n",
      "    (0): Conv2d(1, 32, kernel_size=(5, 5), stride=(2, 2), padding=(1, 1))\n",
      "    (1): ReLU()\n",
      "    (2): MaxPool2d(kernel_size=2, stride=2, padding=0, dilation=1, ceil_mode=False)\n",
      "    (3): Conv2d(32, 64, kernel_size=(3, 3), stride=(2, 2), padding=(1, 1))\n",
      "    (4): ReLU()\n",
      "  )\n",
      ")\n",
      "..\\trained_models\\BRBConvolutionalHigh\n",
      "Epoch : 0 - train loss =0.03598271103302638\n",
      "testloss :0.03594369192918142 -  test accuracy :0.1354166716337204\n",
      "Epoch : 1 - train loss =0.035075896165768304\n",
      "testloss :0.026575434332092602 -  test accuracy :0.3125\n",
      "Epoch : 2 - train loss =0.017585981730620065\n",
      "testloss :0.01593897119164467 -  test accuracy :0.5729166865348816\n",
      "Epoch : 3 - train loss =0.012864022553463778\n",
      "testloss :0.018691170029342175 -  test accuracy :0.5364583730697632\n",
      "Epoch : 4 - train loss =0.010702241207659245\n",
      "testloss :0.009443805242578188 -  test accuracy :0.765625\n",
      "Epoch : 5 - train loss =0.00943826022396485\n",
      "testloss :0.008793347204724947 -  test accuracy :0.78125\n",
      "Epoch : 6 - train loss =0.008465627648929755\n",
      "testloss :0.011823434382677078 -  test accuracy :0.6979166865348816\n",
      "Epoch : 7 - train loss =0.007729719069351753\n",
      "testloss :0.006402066753556331 -  test accuracy :0.8541666865348816\n",
      "Epoch : 8 - train loss =0.0071297786133984725\n",
      "testloss :0.007540824823081493 -  test accuracy :0.8125\n",
      "Epoch : 9 - train loss =0.006642826138436794\n",
      "testloss :0.00729226383070151 -  test accuracy :0.796875\n",
      "Epoch : 10 - train loss =0.006158889450877905\n",
      "testloss :0.004808893194422126 -  test accuracy :0.8854166865348816\n",
      "Epoch : 11 - train loss =0.005823256947100163\n",
      "testloss :0.00793203121672074 -  test accuracy :0.8229166865348816\n",
      "Epoch : 12 - train loss =0.005544988277802865\n",
      "testloss :0.005498850252479315 -  test accuracy :0.8333333730697632\n",
      "Epoch : 13 - train loss =0.005268118021016319\n",
      "testloss :0.005233768528948228 -  test accuracy :0.8802083730697632\n",
      "Epoch : 14 - train loss =0.005043892854079604\n",
      "testloss :0.004291585568959515 -  test accuracy :0.875\n",
      "Epoch : 15 - train loss =0.004873859227945407\n",
      "testloss :0.005569504263500373 -  test accuracy :0.8385416865348816\n",
      "Epoch : 16 - train loss =0.004686975719655553\n",
      "testloss :0.004692894872277975 -  test accuracy :0.8645833730697632\n",
      "Epoch : 17 - train loss =0.004533253534634908\n",
      "testloss :0.0056548745681842165 -  test accuracy :0.8697916865348816\n",
      "Epoch : 18 - train loss =0.004378674279153347\n",
      "testloss :0.004018945852294564 -  test accuracy :0.921875\n",
      "Epoch : 19 - train loss =0.0042464368705948195\n",
      "testloss :0.004562428143496315 -  test accuracy :0.9114583730697632\n",
      "Epoch : 20 - train loss =0.0041008740092317265\n",
      "testloss :0.0034555464517325163 -  test accuracy :0.9270833730697632\n",
      "Epoch : 21 - train loss =0.003988896543408433\n",
      "testloss :0.005032069360216458 -  test accuracy :0.8958333730697632\n",
      "Epoch : 22 - train loss =0.003847526223336657\n",
      "testloss :0.0045769307762384415 -  test accuracy :0.8697916865348816\n",
      "Epoch : 23 - train loss =0.0037533569465080896\n",
      "testloss :0.005378222248206536 -  test accuracy :0.8645833730697632\n",
      "Epoch : 24 - train loss =0.0036406664945185184\n",
      "testloss :0.006614360958337784 -  test accuracy :0.859375\n",
      "Epoch : 25 - train loss =0.003515956212269763\n",
      "testloss :0.0029785762696216502 -  test accuracy :0.9375\n",
      "Epoch : 26 - train loss =0.0034197661797826487\n",
      "testloss :0.005520569160580635 -  test accuracy :0.8697916865348816\n",
      "Epoch : 27 - train loss =0.003313438568015893\n",
      "testloss :0.00547834283982714 -  test accuracy :0.8854166865348816\n",
      "Epoch : 28 - train loss =0.0032113864508147042\n",
      "testloss :0.004604276890556018 -  test accuracy :0.8802083730697632\n",
      "Epoch : 29 - train loss =0.003105363317641119\n",
      "testloss :0.0047667464629436536 -  test accuracy :0.890625\n",
      "Epoch : 30 - train loss =0.0029931079592866203\n",
      "testloss :0.005717407291134198 -  test accuracy :0.859375\n",
      "Epoch : 31 - train loss =0.0029002164710933962\n",
      "testloss :0.003957964945584536 -  test accuracy :0.9375\n",
      "Epoch : 32 - train loss =0.0028067943830353517\n",
      "testloss :0.007253303502996762 -  test accuracy :0.8333333730697632\n",
      "Epoch : 33 - train loss =0.0027203350261474648\n",
      "testloss :0.006156789371743798 -  test accuracy :0.890625\n",
      "Epoch : 34 - train loss =0.0025989522104772427\n",
      "testloss :0.004751936144505938 -  test accuracy :0.8854166865348816\n",
      "Epoch : 35 - train loss =0.002542003902979195\n",
      "testloss :0.003937001184870799 -  test accuracy :0.9322916865348816\n",
      "Epoch : 36 - train loss =0.0024160247655585407\n",
      "testloss :0.005217675895740588 -  test accuracy :0.8802083730697632\n",
      "Epoch : 37 - train loss =0.0023341370095809303\n",
      "testloss :0.003939127937580149 -  test accuracy :0.9166666865348816\n",
      "Epoch : 38 - train loss =0.0022522686924164492\n",
      "testloss :0.006107195746153593 -  test accuracy :0.8854166865348816\n",
      "Epoch : 39 - train loss =0.0021350268287273744\n",
      "testloss :0.004999268800020218 -  test accuracy :0.9010416865348816\n",
      "Epoch : 40 - train loss =0.0020556878486648203\n",
      "testloss :0.004636518036325772 -  test accuracy :0.9166666865348816\n",
      "Epoch : 41 - train loss =0.0019594823801424356\n",
      "testloss :0.004023353025938074 -  test accuracy :0.90625\n",
      "Epoch : 42 - train loss =0.0018873269198772808\n",
      "testloss :0.0028144605069731674 -  test accuracy :0.9427083730697632\n",
      "Epoch : 43 - train loss =0.0017898116511603196\n",
      "testloss :0.005376345788439115 -  test accuracy :0.8854166865348816\n",
      "Epoch : 44 - train loss =0.001725294428722312\n",
      "testloss :0.006107072190692027 -  test accuracy :0.921875\n",
      "Epoch : 45 - train loss =0.0016630090593981247\n",
      "testloss :0.005856060733397801 -  test accuracy :0.9010416865348816\n",
      "Epoch : 46 - train loss =0.0015405610448836037\n",
      "testloss :0.00572895569105943 -  test accuracy :0.9114583730697632\n",
      "Epoch : 47 - train loss =0.001482830169548591\n",
      "testloss :0.006099555175751448 -  test accuracy :0.859375\n",
      "Epoch : 48 - train loss =0.0013824233672271172\n",
      "testloss :0.010686274617910385 -  test accuracy :0.8333333730697632\n",
      "Epoch : 49 - train loss =0.0013740321459714323\n",
      "testloss :0.00856466575836142 -  test accuracy :0.8958333730697632\n"
     ]
    }
   ],
   "source": [
    "from Models.ConvolutionalModelCollection import BRBConvolutionalHigh  \n",
    "\n",
    "model = BRBConvolutionalHigh().to(device)\n",
    "model.cuda()\n",
    "print(model)\n",
    "\n",
    "from Training.trainer import RunTrainer\n",
    "import torch.optim as optim\n",
    "adamOpt = optim.Adam\n",
    "lossCross = torch.nn.CrossEntropyLoss()\n",
    "lossCross.cuda()\n",
    "\n",
    "RunTrainer(model=model, \n",
    "           train_dataloader=train_dataloader,\n",
    "           test_dataloader=test_dataloader,\n",
    "           learning_rate=globaLlr,\n",
    "           epochs=globalEpochs,\n",
    "           optimizer=adamOpt,\n",
    "           loss_fn=lossCross,\n",
    "           eval_steps=3,\n",
    "           device=device,\n",
    "           log_dir='..\\\\trained_models\\\\BRBConvolutionalHigh\\\\'\n",
    "          )"
   ]
  },
  {
   "cell_type": "code",
   "execution_count": 1,
   "metadata": {},
   "outputs": [
    {
     "name": "stderr",
     "output_type": "stream",
     "text": [
      "d:\\Development tools\\python\\lib\\site-packages\\tqdm\\auto.py:22: TqdmWarning: IProgress not found. Please update jupyter and ipywidgets. See https://ipywidgets.readthedocs.io/en/stable/user_install.html\n",
      "  from .autonotebook import tqdm as notebook_tqdm\n"
     ]
    },
    {
     "ename": "NameError",
     "evalue": "name 'device' is not defined",
     "output_type": "error",
     "traceback": [
      "\u001b[1;31m---------------------------------------------------------------------------\u001b[0m",
      "\u001b[1;31mNameError\u001b[0m                                 Traceback (most recent call last)",
      "\u001b[1;32md:\\School\\Machine learning\\Clean project\\project\\project\\Test convolutional.ipynb Cell 16'\u001b[0m in \u001b[0;36m<cell line: 3>\u001b[1;34m()\u001b[0m\n\u001b[0;32m      <a href='vscode-notebook-cell:/d%3A/School/Machine%20learning/Clean%20project/project/project/Test%20convolutional.ipynb#ch0000015?line=0'>1</a>\u001b[0m \u001b[39mfrom\u001b[39;00m \u001b[39mModels\u001b[39;00m\u001b[39m.\u001b[39;00m\u001b[39mConvolutionalModelCollection\u001b[39;00m \u001b[39mimport\u001b[39;00m BRBConvolutionalLayers  \n\u001b[1;32m----> <a href='vscode-notebook-cell:/d%3A/School/Machine%20learning/Clean%20project/project/project/Test%20convolutional.ipynb#ch0000015?line=2'>3</a>\u001b[0m model \u001b[39m=\u001b[39m BRBConvolutionalLayers()\u001b[39m.\u001b[39mto(device)\n\u001b[0;32m      <a href='vscode-notebook-cell:/d%3A/School/Machine%20learning/Clean%20project/project/project/Test%20convolutional.ipynb#ch0000015?line=3'>4</a>\u001b[0m model\u001b[39m.\u001b[39mcuda()\n\u001b[0;32m      <a href='vscode-notebook-cell:/d%3A/School/Machine%20learning/Clean%20project/project/project/Test%20convolutional.ipynb#ch0000015?line=4'>5</a>\u001b[0m \u001b[39mprint\u001b[39m(model)\n",
      "\u001b[1;31mNameError\u001b[0m: name 'device' is not defined"
     ]
    }
   ],
   "source": [
    "from Models.ConvolutionalModelCollection import BRBConvolutionalLayers  \n",
    "\n",
    "model = BRBConvolutionalLayers().to(device)\n",
    "model.cuda()\n",
    "print(model)\n",
    "\n",
    "from Training.trainer import RunTrainer\n",
    "import torch.optim as optim\n",
    "adamOpt = optim.Adam\n",
    "lossCross = torch.nn.CrossEntropyLoss()\n",
    "lossCross.cuda()\n",
    "\n",
    "outpmodel = RunTrainer(model=model, \n",
    "           train_dataloader=train_dataloader,\n",
    "           test_dataloader=test_dataloader,\n",
    "           learning_rate=globaLlr,\n",
    "           epochs=globalEpochs,\n",
    "           optimizer=adamOpt,\n",
    "           loss_fn=lossCross,\n",
    "           eval_steps=3,\n",
    "           device=device,\n",
    "           log_dir='..\\\\trained_models\\\\BRBConvolutionalLayer\\\\'\n",
    "          )"
   ]
  },
  {
   "cell_type": "code",
   "execution_count": 71,
   "metadata": {},
   "outputs": [
    {
     "name": "stderr",
     "output_type": "stream",
     "text": [
      "2022-05-19 16:31:51.822 | INFO     | Training.trainer:RunTrainer:71 - Logging to ..\\trained_models\\BRBConvolutionalLayersDropout\\20220519-1631\n"
     ]
    },
    {
     "name": "stdout",
     "output_type": "stream",
     "text": [
      "BRBConvolutionalLayersDropout(\n",
      "  (dense): Sequential(\n",
      "    (0): Flatten(start_dim=1, end_dim=-1)\n",
      "    (1): Linear(in_features=3136, out_features=1568, bias=True)\n",
      "    (2): ReLU()\n",
      "    (3): Linear(in_features=1568, out_features=600, bias=True)\n",
      "    (4): ReLU()\n",
      "    (5): Linear(in_features=600, out_features=32, bias=True)\n",
      "    (6): ReLU()\n",
      "    (7): Linear(in_features=32, out_features=10, bias=True)\n",
      "  )\n",
      "  (classifier): Sequential(\n",
      "    (0): Dropout(p=0.5, inplace=False)\n",
      "    (1): Conv2d(1, 32, kernel_size=(3, 3), stride=(1, 1), padding=(1, 1))\n",
      "    (2): ReLU()\n",
      "    (3): MaxPool2d(kernel_size=2, stride=2, padding=0, dilation=1, ceil_mode=False)\n",
      "    (4): Conv2d(32, 64, kernel_size=(3, 3), stride=(2, 2), padding=(1, 1))\n",
      "    (5): ReLU()\n",
      "  )\n",
      ")\n",
      "..\\trained_models\\BRBConvolutionalLayersDropout\n",
      "Epoch : 0 - train loss =0.019342727250854175\n",
      "testloss :0.014083946434160074 -  test accuracy :0.6614583730697632\n",
      "Epoch : 1 - train loss =0.01059025936971108\n",
      "testloss :0.012194495337704817 -  test accuracy :0.71875\n",
      "Epoch : 2 - train loss =0.009108188775181771\n",
      "testloss :0.009947102206448713 -  test accuracy :0.7760416865348816\n",
      "Epoch : 3 - train loss =0.008284038675824801\n",
      "testloss :0.00919975278278192 -  test accuracy :0.7864583730697632\n",
      "Epoch : 4 - train loss =0.007741963842511177\n",
      "testloss :0.008911268475155035 -  test accuracy :0.7760416865348816\n",
      "Epoch : 5 - train loss =0.007319372544437647\n",
      "testloss :0.00852426327764988 -  test accuracy :0.8541666865348816\n",
      "Epoch : 6 - train loss =0.006975069020191829\n",
      "testloss :0.010003889289995035 -  test accuracy :0.7708333730697632\n",
      "Epoch : 7 - train loss =0.006727483294159174\n",
      "testloss :0.009037827762464682 -  test accuracy :0.8072916865348816\n",
      "Epoch : 8 - train loss =0.00646895018791159\n",
      "testloss :0.009954947667817274 -  test accuracy :0.7552083730697632\n",
      "Epoch : 9 - train loss =0.006286839799086253\n",
      "testloss :0.007848872958372036 -  test accuracy :0.875\n",
      "Epoch : 10 - train loss =0.006071359581500292\n",
      "testloss :0.007728497497737408 -  test accuracy :0.8385416865348816\n",
      "Epoch : 11 - train loss =0.00594088143457969\n",
      "testloss :0.008981520310044289 -  test accuracy :0.78125\n",
      "Epoch : 12 - train loss =0.005819934068620205\n",
      "testloss :0.008134988291809956 -  test accuracy :0.859375\n",
      "Epoch : 13 - train loss =0.005663789568841457\n",
      "testloss :0.009103865052262941 -  test accuracy :0.8229166865348816\n",
      "Epoch : 14 - train loss =0.005541643844669064\n",
      "testloss :0.007540246161321799 -  test accuracy :0.84375\n",
      "Epoch : 15 - train loss =0.005441465845455726\n",
      "testloss :0.009191929983596006 -  test accuracy :0.7760416865348816\n",
      "Epoch : 16 - train loss =0.005349538364509742\n",
      "testloss :0.008746630201737085 -  test accuracy :0.8072916865348816\n",
      "Epoch : 17 - train loss =0.005246072930842638\n",
      "testloss :0.00832138784850637 -  test accuracy :0.8489583730697632\n",
      "Epoch : 18 - train loss =0.005131906232113639\n",
      "testloss :0.009901185830434164 -  test accuracy :0.78125\n",
      "Epoch : 19 - train loss =0.005087813680370649\n",
      "testloss :0.008528912750383219 -  test accuracy :0.7604166865348816\n",
      "Epoch : 20 - train loss =0.004999568058177829\n",
      "testloss :0.007286912916849057 -  test accuracy :0.8229166865348816\n",
      "Epoch : 21 - train loss =0.004910832345485687\n",
      "testloss :0.007575036181757848 -  test accuracy :0.7864583730697632\n",
      "Epoch : 22 - train loss =0.004830772223944465\n",
      "testloss :0.007080403932680686 -  test accuracy :0.8072916865348816\n",
      "Epoch : 23 - train loss =0.004775616990278165\n",
      "testloss :0.007597932747254769 -  test accuracy :0.7708333730697632\n",
      "Epoch : 24 - train loss =0.0046959210887551305\n",
      "testloss :0.008389201325674852 -  test accuracy :0.7864583730697632\n",
      "Epoch : 25 - train loss =0.004630190754060944\n",
      "testloss :0.007894617660591999 -  test accuracy :0.7916666865348816\n",
      "Epoch : 26 - train loss =0.004555163105701407\n",
      "testloss :0.009938233842452368 -  test accuracy :0.71875\n",
      "Epoch : 27 - train loss =0.004500742353623112\n",
      "testloss :0.006853286176919937 -  test accuracy :0.8541666865348816\n",
      "Epoch : 28 - train loss =0.004455270399649938\n",
      "testloss :0.007751233875751495 -  test accuracy :0.8541666865348816\n",
      "Epoch : 29 - train loss =0.00440953731002907\n",
      "testloss :0.010007770421604315 -  test accuracy :0.734375\n",
      "Epoch : 30 - train loss =0.004321966368705034\n",
      "testloss :0.006407464078317086 -  test accuracy :0.84375\n",
      "Epoch : 31 - train loss =0.004312659890577197\n",
      "testloss :0.008900671731680632 -  test accuracy :0.7447916865348816\n",
      "Epoch : 32 - train loss =0.0042064151637256145\n",
      "testloss :0.007753695671757062 -  test accuracy :0.828125\n",
      "Epoch : 33 - train loss =0.004175506350770593\n",
      "testloss :0.007659675863881906 -  test accuracy :0.8385416865348816\n",
      "Epoch : 34 - train loss =0.00412888248215119\n",
      "testloss :0.008077226423968872 -  test accuracy :0.8333333730697632\n",
      "Epoch : 35 - train loss =0.004085240809246897\n",
      "testloss :0.005123503506183624 -  test accuracy :0.890625\n",
      "Epoch : 36 - train loss =0.0040409150335937736\n",
      "testloss :0.009766114875674248 -  test accuracy :0.78125\n",
      "Epoch : 37 - train loss =0.0039978981792926785\n",
      "testloss :0.007382224779576063 -  test accuracy :0.8177083730697632\n",
      "Epoch : 38 - train loss =0.003937292891989152\n",
      "testloss :0.009271933852384487 -  test accuracy :0.7760416865348816\n",
      "Epoch : 39 - train loss =0.0038875781420618294\n",
      "testloss :0.009553554778297743 -  test accuracy :0.828125\n",
      "Epoch : 40 - train loss =0.003830935126915574\n",
      "testloss :0.006883924671759208 -  test accuracy :0.8125\n",
      "Epoch : 41 - train loss =0.003790924880032738\n",
      "testloss :0.008367583310852448 -  test accuracy :0.78125\n",
      "Epoch : 42 - train loss =0.003747445659028987\n",
      "testloss :0.0061409627087414265 -  test accuracy :0.8541666865348816\n",
      "Epoch : 43 - train loss =0.0036795240763574837\n",
      "testloss :0.008059947130580744 -  test accuracy :0.796875\n",
      "Epoch : 44 - train loss =0.0036487940137585003\n",
      "testloss :0.007082234136760235 -  test accuracy :0.8177083730697632\n",
      "Epoch : 45 - train loss =0.003606834755341212\n",
      "testloss :0.008508474255601564 -  test accuracy :0.796875\n",
      "Epoch : 46 - train loss =0.0035435468298693497\n",
      "testloss :0.00786328804679215 -  test accuracy :0.828125\n",
      "Epoch : 47 - train loss =0.0035239558506757022\n",
      "testloss :0.007597745240976413 -  test accuracy :0.8177083730697632\n",
      "Epoch : 48 - train loss =0.0034686093909665943\n",
      "testloss :0.008651436461756626 -  test accuracy :0.7916666865348816\n",
      "Epoch : 49 - train loss =0.003447135287895799\n",
      "testloss :0.0068486408951381845 -  test accuracy :0.84375\n",
      "Epoch : 50 - train loss =0.00337744118925184\n",
      "testloss :0.00751697380716602 -  test accuracy :0.8385416865348816\n",
      "Epoch : 51 - train loss =0.0033397161902859805\n",
      "testloss :0.0077499391821523505 -  test accuracy :0.796875\n",
      "Epoch : 52 - train loss =0.003311518569414814\n",
      "testloss :0.00995001724610726 -  test accuracy :0.765625\n",
      "Epoch : 53 - train loss =0.0032662111839900413\n",
      "testloss :0.0066398911488552885 -  test accuracy :0.8333333730697632\n",
      "Epoch : 54 - train loss =0.0032119585066412884\n",
      "testloss :0.006195300413916509 -  test accuracy :0.8697916865348816\n",
      "Epoch : 55 - train loss =0.003205304545660814\n",
      "testloss :0.005932981458803018 -  test accuracy :0.8489583730697632\n",
      "Epoch : 56 - train loss =0.0031234149393315116\n",
      "testloss :0.00682966240371267 -  test accuracy :0.8333333730697632\n",
      "Epoch : 57 - train loss =0.0031206674467151364\n",
      "testloss :0.006908506465454896 -  test accuracy :0.8333333730697632\n",
      "Epoch : 58 - train loss =0.0030545086810986203\n",
      "testloss :0.007299614294121663 -  test accuracy :0.8072916865348816\n",
      "Epoch : 59 - train loss =0.0030294212330753603\n",
      "testloss :0.008433272751669088 -  test accuracy :0.8020833730697632\n",
      "Epoch : 60 - train loss =0.0030302774298315246\n",
      "testloss :0.008484691536674896 -  test accuracy :0.765625\n",
      "Epoch : 61 - train loss =0.00298458811553816\n",
      "testloss :0.006193588332583507 -  test accuracy :0.8541666865348816\n",
      "Epoch : 62 - train loss =0.002941187626371781\n",
      "testloss :0.007078389171510935 -  test accuracy :0.8072916865348816\n",
      "Epoch : 63 - train loss =0.0028719920496145883\n",
      "testloss :0.006709615544726451 -  test accuracy :0.8177083730697632\n",
      "Epoch : 64 - train loss =0.0028462582709267736\n",
      "testloss :0.007651666800181071 -  test accuracy :0.796875\n",
      "Epoch : 65 - train loss =0.0028347233066956202\n",
      "testloss :0.007971469778567553 -  test accuracy :0.8072916865348816\n",
      "Epoch : 66 - train loss =0.002809809193915377\n",
      "testloss :0.007927106382946173 -  test accuracy :0.859375\n",
      "Epoch : 67 - train loss =0.002745564694609493\n",
      "testloss :0.008010158315300941 -  test accuracy :0.7864583730697632\n",
      "Epoch : 68 - train loss =0.002755738022302588\n",
      "testloss :0.006758843082934618 -  test accuracy :0.84375\n",
      "Epoch : 69 - train loss =0.0026742651625225942\n",
      "testloss :0.006595386813084285 -  test accuracy :0.8385416865348816\n",
      "Epoch : 70 - train loss =0.0026644367575955888\n",
      "testloss :0.0088333358677725 -  test accuracy :0.8229166865348816\n",
      "Epoch : 71 - train loss =0.0026098654493068654\n",
      "testloss :0.00754338006178538 -  test accuracy :0.8385416865348816\n",
      "Epoch : 72 - train loss =0.002591594605737676\n",
      "testloss :0.007149094560494025 -  test accuracy :0.8385416865348816\n",
      "Epoch : 73 - train loss =0.002558025878481567\n",
      "testloss :0.008103179279714823 -  test accuracy :0.8125\n",
      "Epoch : 74 - train loss =0.0025750204949329296\n",
      "testloss :0.008311608651032051 -  test accuracy :0.796875\n",
      "Epoch : 75 - train loss =0.002532676730367045\n",
      "testloss :0.0085820397362113 -  test accuracy :0.8333333730697632\n",
      "Epoch : 76 - train loss =0.0024975272682495413\n",
      "testloss :0.0062874734091262026 -  test accuracy :0.84375\n",
      "Epoch : 77 - train loss =0.0024986395839601753\n",
      "testloss :0.004286211372042696 -  test accuracy :0.875\n",
      "Epoch : 78 - train loss =0.0024095888409142695\n",
      "testloss :0.007435079663991928 -  test accuracy :0.8385416865348816\n",
      "Epoch : 79 - train loss =0.0023995655664863684\n",
      "testloss :0.010197663058837255 -  test accuracy :0.7916666865348816\n",
      "Epoch : 80 - train loss =0.002376311022012184\n",
      "testloss :0.008033482357859612 -  test accuracy :0.8125\n",
      "Epoch : 81 - train loss =0.0023268296387667455\n",
      "testloss :0.009630503753821055 -  test accuracy :0.7708333730697632\n",
      "Epoch : 82 - train loss =0.0023198383566612997\n",
      "testloss :0.006337086359659831 -  test accuracy :0.859375\n",
      "Epoch : 83 - train loss =0.0023292290560901164\n",
      "testloss :0.008638395927846432 -  test accuracy :0.8125\n",
      "Epoch : 84 - train loss =0.0022401111216594776\n",
      "testloss :0.005420021557559569 -  test accuracy :0.8489583730697632\n",
      "Epoch : 85 - train loss =0.002247467682665835\n",
      "testloss :0.0071209461117784185 -  test accuracy :0.8333333730697632\n",
      "Epoch : 86 - train loss =0.002243310045513014\n",
      "testloss :0.009337028798957666 -  test accuracy :0.796875\n",
      "Epoch : 87 - train loss =0.0021772631113417444\n",
      "testloss :0.009061483045419058 -  test accuracy :0.8125\n",
      "Epoch : 88 - train loss =0.0021512294484612843\n",
      "testloss :0.012115167764325937 -  test accuracy :0.7604166865348816\n",
      "Epoch : 89 - train loss =0.002142904138409843\n",
      "testloss :0.008319163539757332 -  test accuracy :0.8177083730697632\n",
      "Epoch : 90 - train loss =0.0021011405476213745\n",
      "testloss :0.007632313606639703 -  test accuracy :0.78125\n",
      "Epoch : 91 - train loss =0.002071128130114327\n",
      "testloss :0.004950272074590127 -  test accuracy :0.8854166865348816\n",
      "Epoch : 92 - train loss =0.0020595188661168017\n",
      "testloss :0.006182099071641763 -  test accuracy :0.8385416865348816\n",
      "Epoch : 93 - train loss =0.002059695202453683\n",
      "testloss :0.0080522489733994 -  test accuracy :0.84375\n",
      "Epoch : 94 - train loss =0.002044975207559764\n",
      "testloss :0.008549803091833988 -  test accuracy :0.8385416865348816\n",
      "Epoch : 95 - train loss =0.002003229691181332\n",
      "testloss :0.005731202817211549 -  test accuracy :0.84375\n",
      "Epoch : 96 - train loss =0.0019747544045560063\n",
      "testloss :0.006608863982061545 -  test accuracy :0.8489583730697632\n",
      "Epoch : 97 - train loss =0.0019225319002444546\n",
      "testloss :0.006995738639185826 -  test accuracy :0.8385416865348816\n",
      "Epoch : 98 - train loss =0.0019290093638158093\n",
      "testloss :0.008545097118864456 -  test accuracy :0.796875\n",
      "Epoch : 99 - train loss =0.0019545987992547454\n",
      "testloss :0.0110374108577768 -  test accuracy :0.8177083730697632\n"
     ]
    }
   ],
   "source": [
    "from Models.ConvolutionalModelCollection import BRBConvolutionalLayersDropout  \n",
    "model = BRBConvolutionalLayersDropout().to(device)\n",
    "model.cuda()\n",
    "print(model)\n",
    "\n",
    "from Training.trainer import RunTrainer\n",
    "import torch.optim as optim\n",
    "adamOpt = optim.Adam\n",
    "lossCross = torch.nn.CrossEntropyLoss()\n",
    "lossCross.cuda()\n",
    "\n",
    "RunTrainer(model=model, \n",
    "           train_dataloader=train_dataloader,\n",
    "           test_dataloader=test_dataloader,\n",
    "           learning_rate=globaLlr,\n",
    "           epochs=50,\n",
    "           optimizer=adamOpt,\n",
    "           loss_fn=lossCross,\n",
    "           eval_steps=3,\n",
    "           device=device,\n",
    "           log_dir='..\\\\trained_models\\\\BRBConvolutionalLayersDropout\\\\'\n",
    "          )"
   ]
  }
 ],
 "metadata": {
  "interpreter": {
   "hash": "69855e6a671ebbae22bded53bf54a2e55965db9df64dc0686841d36ea41951c3"
  },
  "kernelspec": {
   "display_name": "Python 3.10.4 64-bit",
   "language": "python",
   "name": "python3"
  },
  "language_info": {
   "codemirror_mode": {
    "name": "ipython",
    "version": 3
   },
   "file_extension": ".py",
   "mimetype": "text/x-python",
   "name": "python",
   "nbconvert_exporter": "python",
   "pygments_lexer": "ipython3",
   "version": "3.10.4"
  },
  "orig_nbformat": 4
 },
 "nbformat": 4,
 "nbformat_minor": 2
}
