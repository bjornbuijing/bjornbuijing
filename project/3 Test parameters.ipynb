{
 "cells": [
  {
   "cell_type": "code",
   "execution_count": 1,
   "metadata": {},
   "outputs": [
    {
     "name": "stderr",
     "output_type": "stream",
     "text": [
      "d:\\Development tools\\python\\lib\\site-packages\\tqdm\\auto.py:22: TqdmWarning: IProgress not found. Please update jupyter and ipywidgets. See https://ipywidgets.readthedocs.io/en/stable/user_install.html\n",
      "  from .autonotebook import tqdm as notebook_tqdm\n"
     ]
    },
    {
     "name": "stdout",
     "output_type": "stream",
     "text": [
      "11.3\n"
     ]
    }
   ],
   "source": [
    "%load_ext autoreload\n",
    "%autoreload 2\n",
    "\n",
    "import torch\n",
    "from torch import nn\n",
    "import gin\n",
    "from DataUtils.Getdata import GetDataSets\n",
    "from DataUtils.Getdata import ModuleTest\n",
    "from Models.LineairModelCollection import CNN\n",
    "import Models.LineairModelCollection\n",
    "\n",
    "print(torch.version.cuda)\n",
    "gin.enter_interactive_mode()\n"
   ]
  },
  {
   "cell_type": "code",
   "execution_count": 2,
   "metadata": {},
   "outputs": [],
   "source": [
    "gin.parse_config_file(\"config.gin\")"
   ]
  },
  {
   "cell_type": "code",
   "execution_count": 3,
   "metadata": {},
   "outputs": [
    {
     "name": "stdout",
     "output_type": "stream",
     "text": [
      "PLEASE DO SOMETHING ELSE!!!!!!!!\n"
     ]
    }
   ],
   "source": [
    "# testing gin\n",
    "from Models.LineairModelCollection import TestGin\n",
    "TestGin()"
   ]
  },
  {
   "cell_type": "code",
   "execution_count": 4,
   "metadata": {},
   "outputs": [
    {
     "name": "stdout",
     "output_type": "stream",
     "text": [
      "Wat doet python als we iets veranderen?!?!?!\n"
     ]
    }
   ],
   "source": [
    "ModuleTest()"
   ]
  },
  {
   "cell_type": "code",
   "execution_count": 5,
   "metadata": {},
   "outputs": [
    {
     "data": {
      "text/plain": [
       "True"
      ]
     },
     "execution_count": 5,
     "metadata": {},
     "output_type": "execute_result"
    }
   ],
   "source": [
    "torch.cuda.is_available()"
   ]
  },
  {
   "cell_type": "code",
   "execution_count": 6,
   "metadata": {},
   "outputs": [],
   "source": [
    "\n",
    "# Get cpu or gpu device for training.\n",
    "device = \"cuda\" if torch.cuda.is_available() else \"cpu\""
   ]
  },
  {
   "cell_type": "code",
   "execution_count": 41,
   "metadata": {},
   "outputs": [],
   "source": [
    "batch_size=128\n",
    "train_dataloader,test_dataloader = GetDataSets(batch_size, device)"
   ]
  },
  {
   "cell_type": "code",
   "execution_count": 42,
   "metadata": {},
   "outputs": [
    {
     "data": {
      "text/plain": [
       "torchvision.datasets.mnist.FashionMNIST"
      ]
     },
     "execution_count": 42,
     "metadata": {},
     "output_type": "execute_result"
    }
   ],
   "source": [
    "train_dataloader.dataset\n",
    "type(train_dataloader.dataset)"
   ]
  },
  {
   "cell_type": "code",
   "execution_count": 31,
   "metadata": {},
   "outputs": [],
   "source": [
    "globaLlr = 0.2\n",
    "globalEpochs = 50\n",
    "globalsteps = 5"
   ]
  },
  {
   "cell_type": "code",
   "execution_count": 43,
   "metadata": {},
   "outputs": [
    {
     "name": "stderr",
     "output_type": "stream",
     "text": [
      "2022-05-20 23:20:55.771 | INFO     | Training.trainer:RunTrainer:71 - Logging to ..\\trained_models\\BRBConvolutionalLayersDropoutSGD128\\20220520-2320\n"
     ]
    },
    {
     "name": "stdout",
     "output_type": "stream",
     "text": [
      "BRBConvolutionalLayersDropout(\n",
      "  (dense): Sequential(\n",
      "    (0): Flatten(start_dim=1, end_dim=-1)\n",
      "    (1): Linear(in_features=3136, out_features=1568, bias=True)\n",
      "    (2): ReLU()\n",
      "    (3): Linear(in_features=1568, out_features=600, bias=True)\n",
      "    (4): ReLU()\n",
      "    (5): Linear(in_features=600, out_features=32, bias=True)\n",
      "    (6): ReLU()\n",
      "    (7): Linear(in_features=32, out_features=10, bias=True)\n",
      "  )\n",
      "  (classifier): Sequential(\n",
      "    (0): Dropout(p=0.5, inplace=False)\n",
      "    (1): Conv2d(1, 32, kernel_size=(3, 3), stride=(1, 1), padding=(1, 1))\n",
      "    (2): ReLU()\n",
      "    (3): MaxPool2d(kernel_size=2, stride=2, padding=0, dilation=1, ceil_mode=False)\n",
      "    (4): Conv2d(32, 64, kernel_size=(3, 3), stride=(2, 2), padding=(1, 1))\n",
      "    (5): ReLU()\n",
      "  )\n",
      ")\n",
      "..\\trained_models\\BRBConvolutionalLayersDropoutSGD128\n",
      "Epoch : 0 - train loss =0.007749775896469752\n",
      "testloss :0.0053978484744826956 -  test accuracy :0.7291666865348816\n",
      "Epoch : 1 - train loss =0.003998681242267291\n",
      "testloss :0.0051185619086027145 -  test accuracy :0.7526041865348816\n",
      "Epoch : 2 - train loss =0.0033768674368659657\n",
      "testloss :0.0045637030464907484 -  test accuracy :0.7734375\n",
      "Epoch : 3 - train loss =0.003060349716991186\n",
      "testloss :0.003648691112175584 -  test accuracy :0.8567708730697632\n",
      "Epoch : 4 - train loss =0.0028575438941518465\n",
      "testloss :0.003945223443831007 -  test accuracy :0.8177083730697632\n",
      "Epoch : 5 - train loss =0.002715996346374353\n",
      "testloss :0.0032286759621153274 -  test accuracy :0.8619791865348816\n",
      "Epoch : 6 - train loss =0.002563377173493306\n",
      "testloss :0.004033677512779832 -  test accuracy :0.796875\n",
      "Epoch : 7 - train loss =0.0024874360819657645\n",
      "testloss :0.0029556560330092907 -  test accuracy :0.84375\n",
      "Epoch : 8 - train loss =0.002387247332185507\n",
      "testloss :0.004454188592111071 -  test accuracy :0.7838541865348816\n",
      "Epoch : 9 - train loss =0.002314107834796111\n",
      "testloss :0.004110657377168536 -  test accuracy :0.8125\n",
      "Epoch : 10 - train loss =0.002237996377299229\n",
      "testloss :0.0032158660857627788 -  test accuracy :0.8515625\n",
      "Epoch : 11 - train loss =0.002168662438541651\n",
      "testloss :0.003596942018096646 -  test accuracy :0.8020833730697632\n",
      "Epoch : 12 - train loss =0.002109230401739478\n",
      "testloss :0.0030283372228344283 -  test accuracy :0.8411458730697632\n",
      "Epoch : 13 - train loss =0.002034007836381594\n",
      "testloss :0.00327132036909461 -  test accuracy :0.8255208730697632\n",
      "Epoch : 14 - train loss =0.001986760437488556\n",
      "testloss :0.003307501475016276 -  test accuracy :0.8671875\n",
      "Epoch : 15 - train loss =0.0019343100915352504\n",
      "testloss :0.002528335045402249 -  test accuracy :0.875\n",
      "Epoch : 16 - train loss =0.0018728599227964878\n",
      "testloss :0.003676900484909614 -  test accuracy :0.8203125\n",
      "Epoch : 17 - train loss =0.0018395930394530296\n",
      "testloss :0.003492378086472551 -  test accuracy :0.8411458730697632\n",
      "Epoch : 18 - train loss =0.0017776413535078367\n",
      "testloss :0.0029215958590308824 -  test accuracy :0.8411458730697632\n",
      "Epoch : 19 - train loss =0.001766748277594646\n",
      "testloss :0.004017140095432599 -  test accuracy :0.8203125\n"
     ]
    }
   ],
   "source": [
    "from Models.ConvolutionalModelCollection import BRBConvolutionalLayersDropout  \n",
    "model = BRBConvolutionalLayersDropout().to(device)\n",
    "model.cuda()\n",
    "print(model)\n",
    "\n",
    "from Training.trainer import RunTrainer\n",
    "import torch.optim as optim\n",
    "adamOpt = optim.SGD\n",
    "lossCross = torch.nn.CrossEntropyLoss()\n",
    "lossCross.cuda()\n",
    "\n",
    "outpmodel = RunTrainer(model=model, \n",
    "           train_dataloader=train_dataloader,\n",
    "           test_dataloader=test_dataloader,\n",
    "           learning_rate=globaLlr,\n",
    "           epochs=20,\n",
    "           optimizer=adamOpt,\n",
    "           loss_fn=lossCross,\n",
    "           eval_steps=3,\n",
    "           device=device,\n",
    "           log_dir='..\\\\trained_models\\\\BRBConvolutionalLayersDropoutSGD128\\\\'\n",
    "          )"
   ]
  },
  {
   "cell_type": "code",
   "execution_count": 40,
   "metadata": {},
   "outputs": [
    {
     "data": {
      "text/plain": [
       "BRBConvolutionalLayersDropout(\n",
       "  (dense): Sequential(\n",
       "    (0): Flatten(start_dim=1, end_dim=-1)\n",
       "    (1): Linear(in_features=3136, out_features=1568, bias=True)\n",
       "    (2): ReLU()\n",
       "    (3): Linear(in_features=1568, out_features=600, bias=True)\n",
       "    (4): ReLU()\n",
       "    (5): Linear(in_features=600, out_features=32, bias=True)\n",
       "    (6): ReLU()\n",
       "    (7): Linear(in_features=32, out_features=10, bias=True)\n",
       "  )\n",
       "  (classifier): Sequential(\n",
       "    (0): Dropout(p=0.5, inplace=False)\n",
       "    (1): Conv2d(1, 32, kernel_size=(3, 3), stride=(1, 1), padding=(1, 1))\n",
       "    (2): ReLU()\n",
       "    (3): MaxPool2d(kernel_size=2, stride=2, padding=0, dilation=1, ceil_mode=False)\n",
       "    (4): Conv2d(32, 64, kernel_size=(3, 3), stride=(2, 2), padding=(1, 1))\n",
       "    (5): ReLU()\n",
       "  )\n",
       ")"
      ]
     },
     "execution_count": 40,
     "metadata": {},
     "output_type": "execute_result"
    }
   ],
   "source": [
    "model.eval()"
   ]
  },
  {
   "cell_type": "code",
   "execution_count": 32,
   "metadata": {},
   "outputs": [
    {
     "name": "stderr",
     "output_type": "stream",
     "text": [
      "2022-05-20 22:54:09.883 | INFO     | Training.trainer:RunTrainer:71 - Logging to ..\\trained_models\\BRBConvolutionalLayersDropoutLoss\\20220520-2254\n"
     ]
    },
    {
     "name": "stdout",
     "output_type": "stream",
     "text": [
      "BRBConvolutionalLayersDropout(\n",
      "  (dense): Sequential(\n",
      "    (0): Flatten(start_dim=1, end_dim=-1)\n",
      "    (1): Linear(in_features=3136, out_features=1568, bias=True)\n",
      "    (2): ReLU()\n",
      "    (3): Linear(in_features=1568, out_features=600, bias=True)\n",
      "    (4): ReLU()\n",
      "    (5): Linear(in_features=600, out_features=32, bias=True)\n",
      "    (6): ReLU()\n",
      "    (7): Linear(in_features=32, out_features=10, bias=True)\n",
      "  )\n",
      "  (classifier): Sequential(\n",
      "    (0): Dropout(p=0.5, inplace=False)\n",
      "    (1): Conv2d(1, 32, kernel_size=(3, 3), stride=(1, 1), padding=(1, 1))\n",
      "    (2): ReLU()\n",
      "    (3): MaxPool2d(kernel_size=2, stride=2, padding=0, dilation=1, ceil_mode=False)\n",
      "    (4): Conv2d(32, 64, kernel_size=(3, 3), stride=(2, 2), padding=(1, 1))\n",
      "    (5): ReLU()\n",
      "  )\n",
      ")\n",
      "..\\trained_models\\BRBConvolutionalLayersDropoutLoss\n"
     ]
    },
    {
     "ename": "KeyboardInterrupt",
     "evalue": "",
     "output_type": "error",
     "traceback": [
      "\u001b[1;31m---------------------------------------------------------------------------\u001b[0m",
      "\u001b[1;31mKeyboardInterrupt\u001b[0m                         Traceback (most recent call last)",
      "\u001b[1;32md:\\School\\Machine learning\\Clean project\\project\\project\\Test parameters.ipynb Cell 11'\u001b[0m in \u001b[0;36m<cell line: 12>\u001b[1;34m()\u001b[0m\n\u001b[0;32m      <a href='vscode-notebook-cell:/d%3A/School/Machine%20learning/Clean%20project/project/project/Test%20parameters.ipynb#ch0000017?line=8'>9</a>\u001b[0m lossCross \u001b[39m=\u001b[39m torch\u001b[39m.\u001b[39mnn\u001b[39m.\u001b[39mCrossEntropyLoss()\n\u001b[0;32m     <a href='vscode-notebook-cell:/d%3A/School/Machine%20learning/Clean%20project/project/project/Test%20parameters.ipynb#ch0000017?line=9'>10</a>\u001b[0m lossCross\u001b[39m.\u001b[39mcuda()\n\u001b[1;32m---> <a href='vscode-notebook-cell:/d%3A/School/Machine%20learning/Clean%20project/project/project/Test%20parameters.ipynb#ch0000017?line=11'>12</a>\u001b[0m RunTrainer(model\u001b[39m=\u001b[39;49mmodel, \n\u001b[0;32m     <a href='vscode-notebook-cell:/d%3A/School/Machine%20learning/Clean%20project/project/project/Test%20parameters.ipynb#ch0000017?line=12'>13</a>\u001b[0m            train_dataloader\u001b[39m=\u001b[39;49mtrain_dataloader,\n\u001b[0;32m     <a href='vscode-notebook-cell:/d%3A/School/Machine%20learning/Clean%20project/project/project/Test%20parameters.ipynb#ch0000017?line=13'>14</a>\u001b[0m            test_dataloader\u001b[39m=\u001b[39;49mtest_dataloader,\n\u001b[0;32m     <a href='vscode-notebook-cell:/d%3A/School/Machine%20learning/Clean%20project/project/project/Test%20parameters.ipynb#ch0000017?line=14'>15</a>\u001b[0m            learning_rate\u001b[39m=\u001b[39;49m\u001b[39m0.005\u001b[39;49m,\n\u001b[0;32m     <a href='vscode-notebook-cell:/d%3A/School/Machine%20learning/Clean%20project/project/project/Test%20parameters.ipynb#ch0000017?line=15'>16</a>\u001b[0m            epochs\u001b[39m=\u001b[39;49m\u001b[39m20\u001b[39;49m,\n\u001b[0;32m     <a href='vscode-notebook-cell:/d%3A/School/Machine%20learning/Clean%20project/project/project/Test%20parameters.ipynb#ch0000017?line=16'>17</a>\u001b[0m            optimizer\u001b[39m=\u001b[39;49madamOpt,\n\u001b[0;32m     <a href='vscode-notebook-cell:/d%3A/School/Machine%20learning/Clean%20project/project/project/Test%20parameters.ipynb#ch0000017?line=17'>18</a>\u001b[0m            loss_fn\u001b[39m=\u001b[39;49mlossCross,\n\u001b[0;32m     <a href='vscode-notebook-cell:/d%3A/School/Machine%20learning/Clean%20project/project/project/Test%20parameters.ipynb#ch0000017?line=18'>19</a>\u001b[0m            eval_steps\u001b[39m=\u001b[39;49m\u001b[39m3\u001b[39;49m,\n\u001b[0;32m     <a href='vscode-notebook-cell:/d%3A/School/Machine%20learning/Clean%20project/project/project/Test%20parameters.ipynb#ch0000017?line=19'>20</a>\u001b[0m            device\u001b[39m=\u001b[39;49mdevice,\n\u001b[0;32m     <a href='vscode-notebook-cell:/d%3A/School/Machine%20learning/Clean%20project/project/project/Test%20parameters.ipynb#ch0000017?line=20'>21</a>\u001b[0m            log_dir\u001b[39m=\u001b[39;49m\u001b[39m'\u001b[39;49m\u001b[39m..\u001b[39;49m\u001b[39m\\\\\u001b[39;49;00m\u001b[39mtrained_models\u001b[39;49m\u001b[39m\\\\\u001b[39;49;00m\u001b[39mBRBConvolutionalLayersDropoutLoss\u001b[39;49m\u001b[39m\\\\\u001b[39;49;00m\u001b[39m'\u001b[39;49m\n\u001b[0;32m     <a href='vscode-notebook-cell:/d%3A/School/Machine%20learning/Clean%20project/project/project/Test%20parameters.ipynb#ch0000017?line=21'>22</a>\u001b[0m           )\n",
      "File \u001b[1;32md:\\Development tools\\python\\lib\\site-packages\\gin\\config.py:1009\u001b[0m, in \u001b[0;36m_make_configurable.<locals>.apply_config.<locals>.wrapper\u001b[1;34m(*args, **kwargs)\u001b[0m\n\u001b[0;32m   <a href='file:///d%3A/Development%20tools/python/lib/site-packages/gin/config.py?line=1005'>1006</a>\u001b[0m new_kwargs\u001b[39m.\u001b[39mupdate(kwargs)\n\u001b[0;32m   <a href='file:///d%3A/Development%20tools/python/lib/site-packages/gin/config.py?line=1007'>1008</a>\u001b[0m \u001b[39mtry\u001b[39;00m:\n\u001b[1;32m-> <a href='file:///d%3A/Development%20tools/python/lib/site-packages/gin/config.py?line=1008'>1009</a>\u001b[0m   \u001b[39mreturn\u001b[39;00m fn(\u001b[39m*\u001b[39mnew_args, \u001b[39m*\u001b[39m\u001b[39m*\u001b[39mnew_kwargs)\n\u001b[0;32m   <a href='file:///d%3A/Development%20tools/python/lib/site-packages/gin/config.py?line=1009'>1010</a>\u001b[0m \u001b[39mexcept\u001b[39;00m \u001b[39mException\u001b[39;00m \u001b[39mas\u001b[39;00m e:  \u001b[39m# pylint: disable=broad-except\u001b[39;00m\n\u001b[0;32m   <a href='file:///d%3A/Development%20tools/python/lib/site-packages/gin/config.py?line=1010'>1011</a>\u001b[0m   err_str \u001b[39m=\u001b[39m \u001b[39m'\u001b[39m\u001b[39m'\u001b[39m\n",
      "File \u001b[1;32md:\\School\\Machine learning\\Clean project\\project\\project\\Training\\trainer.py:89\u001b[0m, in \u001b[0;36mRunTrainer\u001b[1;34m(model, train_dataloader, test_dataloader, epochs, optimizer, learning_rate, loss_fn, eval_steps, device, log_dir)\u001b[0m\n\u001b[0;32m     <a href='file:///d%3A/School/Machine%20learning/Clean%20project/project/project/Training/trainer.py?line=86'>87</a>\u001b[0m     loss\u001b[39m.\u001b[39mbackward()\n\u001b[0;32m     <a href='file:///d%3A/School/Machine%20learning/Clean%20project/project/project/Training/trainer.py?line=87'>88</a>\u001b[0m     optimizer_\u001b[39m.\u001b[39mstep()\n\u001b[1;32m---> <a href='file:///d%3A/School/Machine%20learning/Clean%20project/project/project/Training/trainer.py?line=88'>89</a>\u001b[0m     train_loss \u001b[39m+\u001b[39m\u001b[39m=\u001b[39m loss\u001b[39m.\u001b[39;49mdata\u001b[39m.\u001b[39;49mitem()\n\u001b[0;32m     <a href='file:///d%3A/School/Machine%20learning/Clean%20project/project/project/Training/trainer.py?line=89'>90</a>\u001b[0m train_loss \u001b[39m/\u001b[39m\u001b[39m=\u001b[39m \u001b[39mlen\u001b[39m(train_dataloader\u001b[39m.\u001b[39mdataset)\n\u001b[0;32m     <a href='file:///d%3A/School/Machine%20learning/Clean%20project/project/project/Training/trainer.py?line=90'>91</a>\u001b[0m \u001b[39mprint\u001b[39m(\u001b[39mf\u001b[39m\u001b[39m\"\u001b[39m\u001b[39mEpoch : \u001b[39m\u001b[39m{\u001b[39;00mepoch\u001b[39m}\u001b[39;00m\u001b[39m - train loss =\u001b[39m\u001b[39m{\u001b[39;00mtrain_loss\u001b[39m}\u001b[39;00m\u001b[39m\"\u001b[39m)\n",
      "\u001b[1;31mKeyboardInterrupt\u001b[0m: "
     ]
    }
   ],
   "source": [
    "from Models.ConvolutionalModelCollection import BRBConvolutionalLayersDropout  \n",
    "model = BRBConvolutionalLayersDropout().to(device)\n",
    "model.cuda()\n",
    "print(model)\n",
    "\n",
    "from Training.trainer import RunTrainer\n",
    "import torch.optim as optim\n",
    "adamOpt = optim.Adam\n",
    "lossCross = torch.nn.CrossEntropyLoss()\n",
    "lossCross.cuda()\n",
    "\n",
    "RunTrainer(model=model, \n",
    "           train_dataloader=train_dataloader,\n",
    "           test_dataloader=test_dataloader,\n",
    "           learning_rate=0.005,\n",
    "           epochs=20,\n",
    "           optimizer=adamOpt,\n",
    "           loss_fn=lossCross,\n",
    "           eval_steps=3,\n",
    "           device=device,\n",
    "           log_dir='..\\\\trained_models\\\\BRBConvolutionalLayersDropoutLossAdam\\\\'\n",
    "          )"
   ]
  },
  {
   "cell_type": "code",
   "execution_count": 28,
   "metadata": {},
   "outputs": [
    {
     "name": "stderr",
     "output_type": "stream",
     "text": [
      "2022-05-20 22:47:21.364 | INFO     | Training.trainer:RunTrainer:71 - Logging to ..\\trained_models\\BRBConvolutionalLayersDropoutLoss\\20220520-2247\n"
     ]
    },
    {
     "name": "stdout",
     "output_type": "stream",
     "text": [
      "BRBConvolutionalLayersDropout(\n",
      "  (dense): Sequential(\n",
      "    (0): Flatten(start_dim=1, end_dim=-1)\n",
      "    (1): Linear(in_features=3136, out_features=1568, bias=True)\n",
      "    (2): ReLU()\n",
      "    (3): Linear(in_features=1568, out_features=600, bias=True)\n",
      "    (4): ReLU()\n",
      "    (5): Linear(in_features=600, out_features=32, bias=True)\n",
      "    (6): ReLU()\n",
      "    (7): Linear(in_features=32, out_features=10, bias=True)\n",
      "  )\n",
      "  (classifier): Sequential(\n",
      "    (0): Dropout(p=0.5, inplace=False)\n",
      "    (1): Conv2d(1, 32, kernel_size=(3, 3), stride=(1, 1), padding=(1, 1))\n",
      "    (2): ReLU()\n",
      "    (3): MaxPool2d(kernel_size=2, stride=2, padding=0, dilation=1, ceil_mode=False)\n",
      "    (4): Conv2d(32, 64, kernel_size=(3, 3), stride=(2, 2), padding=(1, 1))\n",
      "    (5): ReLU()\n",
      "  )\n",
      ")\n",
      "..\\trained_models\\BRBConvolutionalLayersDropoutLoss\n",
      "Epoch : 0 - train loss =nan\n",
      "testloss :nan -  test accuracy :0.1197916716337204\n",
      "Epoch : 1 - train loss =nan\n",
      "testloss :nan -  test accuracy :0.1145833358168602\n",
      "Epoch : 2 - train loss =nan\n",
      "testloss :nan -  test accuracy :0.0625\n",
      "Epoch : 3 - train loss =nan\n",
      "testloss :nan -  test accuracy :0.109375\n",
      "Epoch : 4 - train loss =nan\n",
      "testloss :nan -  test accuracy :0.0729166716337204\n",
      "Epoch : 5 - train loss =nan\n",
      "testloss :nan -  test accuracy :0.1145833358168602\n",
      "Epoch : 6 - train loss =nan\n",
      "testloss :nan -  test accuracy :0.0677083358168602\n",
      "Epoch : 7 - train loss =nan\n",
      "testloss :nan -  test accuracy :0.0833333358168602\n",
      "Epoch : 8 - train loss =nan\n",
      "testloss :nan -  test accuracy :0.1302083432674408\n",
      "Epoch : 9 - train loss =nan\n",
      "testloss :nan -  test accuracy :0.1041666716337204\n",
      "Epoch : 10 - train loss =nan\n",
      "testloss :nan -  test accuracy :0.109375\n",
      "Epoch : 11 - train loss =nan\n",
      "testloss :nan -  test accuracy :0.109375\n",
      "Epoch : 12 - train loss =nan\n",
      "testloss :nan -  test accuracy :0.0885416716337204\n",
      "Epoch : 13 - train loss =nan\n",
      "testloss :nan -  test accuracy :0.09375\n",
      "Epoch : 14 - train loss =nan\n",
      "testloss :nan -  test accuracy :0.1145833358168602\n",
      "Epoch : 15 - train loss =nan\n",
      "testloss :nan -  test accuracy :0.078125\n",
      "Epoch : 16 - train loss =nan\n",
      "testloss :nan -  test accuracy :0.09375\n",
      "Epoch : 17 - train loss =nan\n",
      "testloss :nan -  test accuracy :0.09375\n",
      "Epoch : 18 - train loss =nan\n",
      "testloss :nan -  test accuracy :0.125\n",
      "Epoch : 19 - train loss =nan\n",
      "testloss :nan -  test accuracy :0.0885416716337204\n"
     ]
    }
   ],
   "source": [
    "from Models.ConvolutionalModelCollection import BRBConvolutionalLayersDropout  \n",
    "model = BRBConvolutionalLayersDropout().to(device)\n",
    "model.cuda()\n",
    "print(model)\n",
    "\n",
    "from Training.trainer import RunTrainer\n",
    "import torch.optim as optim\n",
    "adamOpt = optim.SGD\n",
    "lossCross = torch.nn.NLLLoss()\n",
    "lossCross.cuda()\n",
    "\n",
    "RunTrainer(model=model, \n",
    "           train_dataloader=train_dataloader,\n",
    "           test_dataloader=test_dataloader,\n",
    "           learning_rate=0.005,\n",
    "           epochs=20,\n",
    "           optimizer=adamOpt,\n",
    "           loss_fn=lossCross,\n",
    "           eval_steps=3,\n",
    "           device=device,\n",
    "           log_dir='..\\\\trained_models\\\\BRBConvolutionalLayersDropoutNllOss\\\\'\n",
    "          )"
   ]
  },
  {
   "cell_type": "code",
   "execution_count": 44,
   "metadata": {},
   "outputs": [
    {
     "name": "stderr",
     "output_type": "stream",
     "text": [
      "2022-05-20 23:39:07.808 | INFO     | Training.trainer:RunTrainer:71 - Logging to ..\\trained_models\\BRBConvolutionalLayersDropoutLR\\20220520-2339\n"
     ]
    },
    {
     "name": "stdout",
     "output_type": "stream",
     "text": [
      "BRBConvolutionalLayersDropout(\n",
      "  (dense): Sequential(\n",
      "    (0): Flatten(start_dim=1, end_dim=-1)\n",
      "    (1): Linear(in_features=3136, out_features=1568, bias=True)\n",
      "    (2): ReLU()\n",
      "    (3): Linear(in_features=1568, out_features=600, bias=True)\n",
      "    (4): ReLU()\n",
      "    (5): Linear(in_features=600, out_features=32, bias=True)\n",
      "    (6): ReLU()\n",
      "    (7): Linear(in_features=32, out_features=10, bias=True)\n",
      "  )\n",
      "  (classifier): Sequential(\n",
      "    (0): Dropout(p=0.5, inplace=False)\n",
      "    (1): Conv2d(1, 32, kernel_size=(3, 3), stride=(1, 1), padding=(1, 1))\n",
      "    (2): ReLU()\n",
      "    (3): MaxPool2d(kernel_size=2, stride=2, padding=0, dilation=1, ceil_mode=False)\n",
      "    (4): Conv2d(32, 64, kernel_size=(3, 3), stride=(2, 2), padding=(1, 1))\n",
      "    (5): ReLU()\n",
      "  )\n",
      ")\n",
      "..\\trained_models\\BRBConvolutionalLayersDropoutLR\n",
      "Epoch : 0 - train loss =0.017152082681655884\n",
      "testloss :0.013767744104067484 -  test accuracy :0.4739583432674408\n",
      "Epoch : 1 - train loss =0.008067542804280917\n",
      "testloss :0.007472565708061059 -  test accuracy :0.6328125\n",
      "Epoch : 2 - train loss =0.006121128633618355\n",
      "testloss :0.007041658740490675 -  test accuracy :0.6276041865348816\n",
      "Epoch : 3 - train loss =0.0055367531473437944\n",
      "testloss :0.006165102745095889 -  test accuracy :0.6875\n",
      "Epoch : 4 - train loss =0.005157207247118155\n",
      "testloss :0.005820915723840396 -  test accuracy :0.7291666865348816\n",
      "Epoch : 5 - train loss =0.004866383035977681\n",
      "testloss :0.005432607606053352 -  test accuracy :0.7161458730697632\n",
      "Epoch : 6 - train loss =0.0046862597793340685\n",
      "testloss :0.004923520764956872 -  test accuracy :0.7838541865348816\n",
      "Epoch : 7 - train loss =0.0044888589645425475\n",
      "testloss :0.004703279429425796 -  test accuracy :0.7916666865348816\n",
      "Epoch : 8 - train loss =0.004365242689351241\n",
      "testloss :0.005232203596582015 -  test accuracy :0.7578125\n",
      "Epoch : 9 - train loss =0.004243561140696208\n",
      "testloss :0.005123167143513759 -  test accuracy :0.7682291865348816\n",
      "Epoch : 10 - train loss =0.004116783354183038\n",
      "testloss :0.004728797202308972 -  test accuracy :0.8072916865348816\n",
      "Epoch : 11 - train loss =0.004025466488798459\n",
      "testloss :0.004655889856318633 -  test accuracy :0.7916666865348816\n",
      "Epoch : 12 - train loss =0.003948785855869452\n",
      "testloss :0.00474070447186629 -  test accuracy :0.7864583730697632\n",
      "Epoch : 13 - train loss =0.003856923193236192\n",
      "testloss :0.004303255584090948 -  test accuracy :0.8151041865348816\n",
      "Epoch : 14 - train loss =0.003777997323870659\n",
      "testloss :0.004562968388199806 -  test accuracy :0.7916666865348816\n",
      "Epoch : 15 - train loss =0.0037126570070783295\n",
      "testloss :0.0037137118633836508 -  test accuracy :0.8541666865348816\n",
      "Epoch : 16 - train loss =0.0036251947636405627\n",
      "testloss :0.0045083869869510336 -  test accuracy :0.8046875\n",
      "Epoch : 17 - train loss =0.0035947775542736053\n",
      "testloss :0.00390002162506183 -  test accuracy :0.8125\n",
      "Epoch : 18 - train loss =0.0035361922681331633\n",
      "testloss :0.0038269904907792807 -  test accuracy :0.8411458730697632\n",
      "Epoch : 19 - train loss =0.0034601807127396266\n",
      "testloss :0.003969967132434249 -  test accuracy :0.8307291865348816\n"
     ]
    }
   ],
   "source": [
    "from Models.ConvolutionalModelCollection import BRBConvolutionalLayersDropout  \n",
    "model = BRBConvolutionalLayersDropout().to(device)\n",
    "model.cuda()\n",
    "print(model)\n",
    "\n",
    "from Training.trainer import RunTrainer\n",
    "import torch.optim as optim\n",
    "adamOpt = optim.SGD\n",
    "lossCross = torch.nn.CrossEntropyLoss()\n",
    "lossCross.cuda()\n",
    "\n",
    "outpmodel = RunTrainer(model=model, \n",
    "           train_dataloader=train_dataloader,\n",
    "           test_dataloader=test_dataloader,\n",
    "           learning_rate=0.01,\n",
    "           epochs=20,\n",
    "           optimizer=adamOpt,\n",
    "           loss_fn=lossCross,\n",
    "           eval_steps=3,\n",
    "           device=device,\n",
    "           log_dir='..\\\\trained_models\\\\BRBConvolutionalLayersDropoutLR\\\\'\n",
    "          )"
   ]
  },
  {
   "cell_type": "code",
   "execution_count": 45,
   "metadata": {},
   "outputs": [
    {
     "name": "stderr",
     "output_type": "stream",
     "text": [
      "2022-05-20 23:41:50.501 | INFO     | Training.trainer:RunTrainer:71 - Logging to ..\\trained_models\\BRBConvolutionalLayersDropoutLR\\20220520-2341\n"
     ]
    },
    {
     "name": "stdout",
     "output_type": "stream",
     "text": [
      "BRBConvolutionalLayersDropout(\n",
      "  (dense): Sequential(\n",
      "    (0): Flatten(start_dim=1, end_dim=-1)\n",
      "    (1): Linear(in_features=3136, out_features=1568, bias=True)\n",
      "    (2): ReLU()\n",
      "    (3): Linear(in_features=1568, out_features=600, bias=True)\n",
      "    (4): ReLU()\n",
      "    (5): Linear(in_features=600, out_features=32, bias=True)\n",
      "    (6): ReLU()\n",
      "    (7): Linear(in_features=32, out_features=10, bias=True)\n",
      "  )\n",
      "  (classifier): Sequential(\n",
      "    (0): Dropout(p=0.5, inplace=False)\n",
      "    (1): Conv2d(1, 32, kernel_size=(3, 3), stride=(1, 1), padding=(1, 1))\n",
      "    (2): ReLU()\n",
      "    (3): MaxPool2d(kernel_size=2, stride=2, padding=0, dilation=1, ceil_mode=False)\n",
      "    (4): Conv2d(32, 64, kernel_size=(3, 3), stride=(2, 2), padding=(1, 1))\n",
      "    (5): ReLU()\n",
      "  )\n",
      ")\n",
      "..\\trained_models\\BRBConvolutionalLayersDropoutLR\n",
      "Epoch : 0 - train loss =0.018084276648362478\n",
      "testloss :0.017964451263348263 -  test accuracy :0.1067708358168602\n",
      "Epoch : 1 - train loss =0.018013547563552855\n",
      "testloss :0.01800457574427128 -  test accuracy :0.1119791716337204\n",
      "Epoch : 2 - train loss =0.018012353761990865\n",
      "testloss :0.01796544964114825 -  test accuracy :0.1067708358168602\n",
      "Epoch : 3 - train loss =0.01801289869149526\n",
      "testloss :0.017978046089410782 -  test accuracy :0.1276041716337204\n",
      "Epoch : 4 - train loss =0.018014502716064452\n",
      "testloss :0.01805996149778366 -  test accuracy :0.0859375\n",
      "Epoch : 5 - train loss =0.018012542724609375\n",
      "testloss :0.017997169867157936 -  test accuracy :0.09375\n",
      "Epoch : 6 - train loss =0.018012949081261952\n",
      "testloss :0.018000719447930653 -  test accuracy :0.1067708358168602\n",
      "Epoch : 7 - train loss =0.01801515971024831\n",
      "testloss :0.018022619808713596 -  test accuracy :0.0859375\n",
      "Epoch : 8 - train loss =0.018013715616861978\n",
      "testloss :0.018035614242156345 -  test accuracy :0.0833333358168602\n",
      "Epoch : 9 - train loss =0.01801426719427109\n",
      "testloss :0.018042354534069698 -  test accuracy :0.0885416716337204\n",
      "Epoch : 10 - train loss =0.018012627919514974\n",
      "testloss :0.017986919730901718 -  test accuracy :0.0833333358168602\n",
      "Epoch : 11 - train loss =0.01801362453699112\n",
      "testloss :0.018011566251516342 -  test accuracy :0.1067708358168602\n",
      "Epoch : 12 - train loss =0.018011367015043894\n",
      "testloss :0.018058295051256817 -  test accuracy :0.1067708358168602\n",
      "Epoch : 13 - train loss =0.01801273407936096\n",
      "testloss :0.018008277441064518 -  test accuracy :0.0911458358168602\n",
      "Epoch : 14 - train loss =0.018013636938730877\n",
      "testloss :0.018028366068998974 -  test accuracy :0.0807291716337204\n",
      "Epoch : 15 - train loss =0.018015700415770212\n",
      "testloss :0.01801566282908122 -  test accuracy :0.09375\n",
      "Epoch : 16 - train loss =0.0180142942349116\n",
      "testloss :0.017946233972907066 -  test accuracy :0.1171875\n",
      "Epoch : 17 - train loss =0.018011855753262838\n",
      "testloss :0.018036094804604847 -  test accuracy :0.0911458358168602\n",
      "Epoch : 18 - train loss =0.01801235026915868\n",
      "testloss :0.018051739782094955 -  test accuracy :0.1197916716337204\n",
      "Epoch : 19 - train loss =0.018013904599348703\n",
      "testloss :0.01801317868133386 -  test accuracy :0.0833333358168602\n"
     ]
    }
   ],
   "source": [
    "from Models.ConvolutionalModelCollection import BRBConvolutionalLayersDropout  \n",
    "model = BRBConvolutionalLayersDropout().to(device)\n",
    "model.cuda()\n",
    "print(model)\n",
    "\n",
    "from Training.trainer import RunTrainer\n",
    "import torch.optim as optim\n",
    "adamOpt = optim.SGD\n",
    "lossCross = torch.nn.CrossEntropyLoss()\n",
    "lossCross.cuda()\n",
    "\n",
    "outpmodel = RunTrainer(model=model, \n",
    "           train_dataloader=train_dataloader,\n",
    "           test_dataloader=test_dataloader,\n",
    "           learning_rate=1,\n",
    "           epochs=20,\n",
    "           optimizer=adamOpt,\n",
    "           loss_fn=lossCross,\n",
    "           eval_steps=3,\n",
    "           device=device,\n",
    "           log_dir='..\\\\trained_models\\\\BRBConvolutionalLayersDropoutLR\\\\'\n",
    "          )"
   ]
  }
 ],
 "metadata": {
  "interpreter": {
   "hash": "69855e6a671ebbae22bded53bf54a2e55965db9df64dc0686841d36ea41951c3"
  },
  "kernelspec": {
   "display_name": "Python 3.10.4 64-bit",
   "language": "python",
   "name": "python3"
  },
  "language_info": {
   "codemirror_mode": {
    "name": "ipython",
    "version": 3
   },
   "file_extension": ".py",
   "mimetype": "text/x-python",
   "name": "python",
   "nbconvert_exporter": "python",
   "pygments_lexer": "ipython3",
   "version": "3.10.4"
  },
  "orig_nbformat": 4
 },
 "nbformat": 4,
 "nbformat_minor": 2
}
