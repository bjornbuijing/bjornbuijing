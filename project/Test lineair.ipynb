{
 "cells": [
  {
   "cell_type": "code",
   "execution_count": 9,
   "metadata": {},
   "outputs": [
    {
     "name": "stdout",
     "output_type": "stream",
     "text": [
      "The autoreload extension is already loaded. To reload it, use:\n",
      "  %reload_ext autoreload\n",
      "11.3\n"
     ]
    }
   ],
   "source": [
    "%load_ext autoreload\n",
    "%autoreload 2\n",
    "\n",
    "import torch\n",
    "from torch import nn\n",
    "import gin\n",
    "from DataUtils.Getdata import GetDataSets\n",
    "from DataUtils.Getdata import ModuleTest\n",
    "from Models.LineairModelCollection import CNN\n",
    "import Models.LineairModelCollection\n",
    "\n",
    "print(torch.version.cuda)\n",
    "gin.enter_interactive_mode()\n"
   ]
  },
  {
   "cell_type": "code",
   "execution_count": 10,
   "metadata": {},
   "outputs": [],
   "source": [
    "gin.parse_config_file(\"config.gin\")"
   ]
  },
  {
   "cell_type": "code",
   "execution_count": 11,
   "metadata": {},
   "outputs": [
    {
     "name": "stdout",
     "output_type": "stream",
     "text": [
      "PLEASE DO SOMETHING ELSE!!!!!!!!\n"
     ]
    }
   ],
   "source": [
    "# testing gin\n",
    "from Models.LineairModelCollection import TestGin\n",
    "TestGin()"
   ]
  },
  {
   "cell_type": "code",
   "execution_count": 12,
   "metadata": {},
   "outputs": [
    {
     "name": "stdout",
     "output_type": "stream",
     "text": [
      "Wat doet python als we iets veranderen?!?!?!\n"
     ]
    }
   ],
   "source": [
    "ModuleTest()"
   ]
  },
  {
   "cell_type": "code",
   "execution_count": 13,
   "metadata": {},
   "outputs": [
    {
     "data": {
      "text/plain": [
       "True"
      ]
     },
     "execution_count": 13,
     "metadata": {},
     "output_type": "execute_result"
    }
   ],
   "source": [
    "torch.cuda.is_available()"
   ]
  },
  {
   "cell_type": "code",
   "execution_count": 14,
   "metadata": {},
   "outputs": [],
   "source": [
    "\n",
    "# Get cpu or gpu device for training.\n",
    "device = \"cuda\" if torch.cuda.is_available() else \"cpu\""
   ]
  },
  {
   "cell_type": "code",
   "execution_count": 15,
   "metadata": {},
   "outputs": [],
   "source": [
    "batch_size=64\n",
    "train_dataloader,test_dataloader = GetDataSets(batch_size, device)"
   ]
  },
  {
   "cell_type": "code",
   "execution_count": 16,
   "metadata": {},
   "outputs": [
    {
     "data": {
      "text/plain": [
       "torchvision.datasets.mnist.FashionMNIST"
      ]
     },
     "execution_count": 16,
     "metadata": {},
     "output_type": "execute_result"
    }
   ],
   "source": [
    "train_dataloader.dataset\n",
    "type(train_dataloader.dataset)"
   ]
  },
  {
   "cell_type": "code",
   "execution_count": 17,
   "metadata": {},
   "outputs": [
    {
     "name": "stdout",
     "output_type": "stream",
     "text": [
      "CNN(\n",
      "  (convolutions): Sequential(\n",
      "    (0): Conv2d(1, 32, kernel_size=(3, 3), stride=(1, 1), padding=(1, 1))\n",
      "    (1): ReLU()\n",
      "    (2): MaxPool2d(kernel_size=2, stride=2, padding=0, dilation=1, ceil_mode=False)\n",
      "    (3): Conv2d(32, 32, kernel_size=(3, 3), stride=(1, 1))\n",
      "    (4): ReLU()\n",
      "    (5): MaxPool2d(kernel_size=2, stride=2, padding=0, dilation=1, ceil_mode=False)\n",
      "    (6): Conv2d(32, 32, kernel_size=(3, 3), stride=(1, 1))\n",
      "    (7): ReLU()\n",
      "    (8): MaxPool2d(kernel_size=2, stride=2, padding=0, dilation=1, ceil_mode=False)\n",
      "  )\n",
      "  (dense): Sequential(\n",
      "    (0): Flatten(start_dim=1, end_dim=-1)\n",
      "    (1): Linear(in_features=128, out_features=64, bias=True)\n",
      "    (2): ReLU()\n",
      "    (3): Linear(in_features=64, out_features=32, bias=True)\n",
      "    (4): ReLU()\n",
      "    (5): Linear(in_features=32, out_features=10, bias=True)\n",
      "  )\n",
      ")\n"
     ]
    },
    {
     "data": {
      "text/plain": [
       "CrossEntropyLoss()"
      ]
     },
     "execution_count": 17,
     "metadata": {},
     "output_type": "execute_result"
    }
   ],
   "source": [
    "from Models.LineairModelCollection import CNN  \n",
    "model = CNN().to(device)\n",
    "model.cuda()\n",
    "print(model)\n",
    "\n",
    "from Training.trainer import RunTrainer\n",
    "import torch.optim as optim\n",
    "adamOpt = optim.Adam\n",
    "lossCross = torch.nn.CrossEntropyLoss()\n",
    "lossCross.cuda()\n",
    " \n",
    "#RunTrainer(model=model, \n",
    "#           train_dataloader=train_dataloader,\n",
    "#           test_dataloader=test_dataloader,\n",
    "#           learning_rate=globaLlr,\n",
    "#           epochs=globalEpochs,\n",
    "#           optimizer=adamOpt,\n",
    "#           loss_fn=lossCross,\n",
    "#           eval_steps=3,\n",
    "#           device=device,\n",
    "#           )"
   ]
  },
  {
   "cell_type": "code",
   "execution_count": 18,
   "metadata": {},
   "outputs": [
    {
     "data": {
      "text/plain": [
       "torch.Size([64, 784])"
      ]
     },
     "execution_count": 18,
     "metadata": {},
     "output_type": "execute_result"
    }
   ],
   "source": [
    "X, y = next(iter(train_dataloader))\n",
    "X.shape, y.shape\n",
    "\n",
    "flat = nn.Flatten()\n",
    "z = flat(X)\n",
    "z.shape"
   ]
  },
  {
   "cell_type": "code",
   "execution_count": 19,
   "metadata": {},
   "outputs": [
    {
     "data": {
      "text/plain": [
       "torch.Size([1, 28, 28])"
      ]
     },
     "execution_count": 19,
     "metadata": {},
     "output_type": "execute_result"
    }
   ],
   "source": [
    "img = X[0]\n",
    "img.shape"
   ]
  },
  {
   "cell_type": "code",
   "execution_count": 20,
   "metadata": {},
   "outputs": [
    {
     "data": {
      "text/plain": [
       "<matplotlib.image.AxesImage at 0x265cb1a78e0>"
      ]
     },
     "execution_count": 20,
     "metadata": {},
     "output_type": "execute_result"
    },
    {
     "data": {
      "image/png": "[encoded data removed]",
      "text/plain": [
       "<Figure size 432x288 with 1 Axes>"
      ]
     },
     "metadata": {
      "needs_background": "light"
     },
     "output_type": "display_data"
    }
   ],
   "source": [
    "import matplotlib.pyplot as plt\n",
    "plt.imshow(img.squeeze(), cmap=\"gray\")"
   ]
  },
  {
   "cell_type": "code",
   "execution_count": null,
   "metadata": {},
   "outputs": [],
   "source": []
  },
  {
   "cell_type": "code",
   "execution_count": 21,
   "metadata": {},
   "outputs": [],
   "source": [
    "globaLlr = 0.02\n",
    "globalEpochs = 50\n",
    "globalsteps = 5"
   ]
  },
  {
   "cell_type": "code",
   "execution_count": 22,
   "metadata": {},
   "outputs": [
    {
     "name": "stderr",
     "output_type": "stream",
     "text": [
      "2022-05-19 10:19:29.844 | INFO     | Training.trainer:RunTrainer:71 - Logging to ..\\trained_models\\BRBSequentialLow\\20220519-1019\n"
     ]
    },
    {
     "name": "stdout",
     "output_type": "stream",
     "text": [
      "BRBSequentialLow(\n",
      "  (dense): Sequential(\n",
      "    (0): Flatten(start_dim=1, end_dim=-1)\n",
      "    (1): Linear(in_features=784, out_features=392, bias=True)\n",
      "    (2): ReLU()\n",
      "    (3): Linear(in_features=392, out_features=10, bias=True)\n",
      "  )\n",
      ")\n",
      "..\\trained_models\\BRBSequentialLow\n",
      "Epoch : 0 - train loss =0.013910515962541104\n",
      "testloss :0.009870050164560476 -  test accuracy :0.7708333730697632\n",
      "Epoch : 1 - train loss =0.0086401983131965\n",
      "testloss :0.007847884204238653 -  test accuracy :0.8177083730697632\n",
      "Epoch : 2 - train loss =0.007717151198536157\n",
      "testloss :0.007241103332489729 -  test accuracy :0.828125\n",
      "Epoch : 3 - train loss =0.007259707036117713\n",
      "testloss :0.007548683788627386 -  test accuracy :0.8333333730697632\n",
      "Epoch : 4 - train loss =0.006919045555839936\n",
      "testloss :0.007415957283228636 -  test accuracy :0.828125\n",
      "Epoch : 5 - train loss =0.006681105754772822\n",
      "testloss :0.009763753662506739 -  test accuracy :0.7552083730697632\n",
      "Epoch : 6 - train loss =0.006480227420727412\n",
      "testloss :0.006004611340661843 -  test accuracy :0.8541666865348816\n",
      "Epoch : 7 - train loss =0.006305253825585048\n",
      "testloss :0.006412075832486153 -  test accuracy :0.875\n",
      "Epoch : 8 - train loss =0.006144248436391353\n",
      "testloss :0.005874669334540765 -  test accuracy :0.8645833730697632\n",
      "Epoch : 9 - train loss =0.006021105630323291\n",
      "testloss :0.007150731980800629 -  test accuracy :0.8489583730697632\n",
      "Epoch : 10 - train loss =0.005883450640986363\n",
      "testloss :0.005689493225266536 -  test accuracy :0.8802083730697632\n",
      "Epoch : 11 - train loss =0.005773535541941722\n",
      "testloss :0.006762148346751928 -  test accuracy :0.8645833730697632\n",
      "Epoch : 12 - train loss =0.0056869481968383\n",
      "testloss :0.007358709039787452 -  test accuracy :0.84375\n",
      "Epoch : 13 - train loss =0.005562614572048187\n",
      "testloss :0.007301737399150928 -  test accuracy :0.8489583730697632\n",
      "Epoch : 14 - train loss =0.005488741768648227\n",
      "testloss :0.006808141091217597 -  test accuracy :0.8697916865348816\n",
      "Epoch : 15 - train loss =0.005404218776524067\n",
      "testloss :0.008133367169648409 -  test accuracy :0.8229166865348816\n",
      "Epoch : 16 - train loss =0.0053241430358340345\n",
      "testloss :0.004890244919806719 -  test accuracy :0.8958333730697632\n",
      "Epoch : 17 - train loss =0.005237427507589261\n",
      "testloss :0.006893758196383715 -  test accuracy :0.8385416865348816\n",
      "Epoch : 18 - train loss =0.005178744397933284\n",
      "testloss :0.006699841159085433 -  test accuracy :0.8541666865348816\n",
      "Epoch : 19 - train loss =0.005104216782748699\n",
      "testloss :0.006682251580059528 -  test accuracy :0.8645833730697632\n",
      "Epoch : 20 - train loss =0.0050388047782083355\n",
      "testloss :0.005509013620515664 -  test accuracy :0.8333333730697632\n",
      "Epoch : 21 - train loss =0.004980541806171338\n",
      "testloss :0.00581881171092391 -  test accuracy :0.859375\n",
      "Epoch : 22 - train loss =0.004916309813906749\n",
      "testloss :0.005292607471346855 -  test accuracy :0.8854166865348816\n",
      "Epoch : 23 - train loss =0.004839200472459197\n",
      "testloss :0.006218583012620608 -  test accuracy :0.8645833730697632\n",
      "Epoch : 24 - train loss =0.004789051953827342\n",
      "testloss :0.007814262062311172 -  test accuracy :0.84375\n",
      "Epoch : 25 - train loss =0.004727213378126423\n",
      "testloss :0.005546348014225562 -  test accuracy :0.8697916865348816\n",
      "Epoch : 26 - train loss =0.004681166292230288\n",
      "testloss :0.006214938436945279 -  test accuracy :0.8385416865348816\n",
      "Epoch : 27 - train loss =0.004630993415042758\n",
      "testloss :0.005473061619947354 -  test accuracy :0.875\n",
      "Epoch : 28 - train loss =0.004568512077877919\n",
      "testloss :0.00787335610948503 -  test accuracy :0.8229166865348816\n",
      "Epoch : 29 - train loss =0.004526134443779787\n",
      "testloss :0.004982231805721919 -  test accuracy :0.8854166865348816\n",
      "Epoch : 30 - train loss =0.00447887781287233\n",
      "testloss :0.00536374809841315 -  test accuracy :0.8802083730697632\n",
      "Epoch : 31 - train loss =0.004422829950725039\n",
      "testloss :0.006550379563122988 -  test accuracy :0.859375\n",
      "Epoch : 32 - train loss =0.004390288037682573\n",
      "testloss :0.00510078218455116 -  test accuracy :0.875\n",
      "Epoch : 33 - train loss =0.004339854604999224\n",
      "testloss :0.006112377159297466 -  test accuracy :0.859375\n",
      "Epoch : 34 - train loss =0.004298675104230642\n",
      "testloss :0.0043521356613685684 -  test accuracy :0.9010416865348816\n",
      "Epoch : 35 - train loss =0.004260376344000299\n",
      "testloss :0.004782457758362095 -  test accuracy :0.890625\n",
      "Epoch : 36 - train loss =0.004196052193020781\n",
      "testloss :0.006128356481591861 -  test accuracy :0.875\n",
      "Epoch : 37 - train loss =0.0041647689372301105\n",
      "testloss :0.0053113036168118315 -  test accuracy :0.8802083730697632\n",
      "Epoch : 38 - train loss =0.004131400520727038\n",
      "testloss :0.00567360424126188 -  test accuracy :0.8645833730697632\n",
      "Epoch : 39 - train loss =0.004089974240710338\n",
      "testloss :0.005340473105510076 -  test accuracy :0.8645833730697632\n",
      "Epoch : 40 - train loss =0.004052349403624734\n",
      "testloss :0.005948529423524936 -  test accuracy :0.8541666865348816\n",
      "Epoch : 41 - train loss =0.0040218922660375635\n",
      "testloss :0.0049809433209399385 -  test accuracy :0.890625\n",
      "Epoch : 42 - train loss =0.003976096706589063\n",
      "testloss :0.005833934526890516 -  test accuracy :0.875\n",
      "Epoch : 43 - train loss =0.003953176059325536\n",
      "testloss :0.004909895360469818 -  test accuracy :0.9427083730697632\n",
      "Epoch : 44 - train loss =0.003903059559563796\n",
      "testloss :0.006383294550081094 -  test accuracy :0.8385416865348816\n",
      "Epoch : 45 - train loss =0.0038725159207358955\n",
      "testloss :0.004747311895092328 -  test accuracy :0.8697916865348816\n",
      "Epoch : 46 - train loss =0.003834236847733458\n",
      "testloss :0.0047223194657514496 -  test accuracy :0.9010416865348816\n",
      "Epoch : 47 - train loss =0.0037921135442952314\n",
      "testloss :0.0037442871058980622 -  test accuracy :0.8958333730697632\n",
      "Epoch : 48 - train loss =0.0037762785172710815\n",
      "testloss :0.004598890120784442 -  test accuracy :0.9114583730697632\n",
      "Epoch : 49 - train loss =0.003743536688014865\n",
      "testloss :0.005004191072657704 -  test accuracy :0.875\n"
     ]
    }
   ],
   "source": [
    "from Models.LineairModelCollection import BRBSequentialLow  \n",
    "\n",
    "model = BRBSequentialLow().to(device)\n",
    "model.cuda()\n",
    "print(model)\n",
    "\n",
    "from Training.trainer import RunTrainer\n",
    "import torch.optim as optim\n",
    "adamOpt = optim.Adam\n",
    "lossCross = torch.nn.CrossEntropyLoss()\n",
    "lossCross.cuda()\n",
    "\n",
    "RunTrainer(model=model, \n",
    "           train_dataloader=train_dataloader,\n",
    "           test_dataloader=test_dataloader,\n",
    "           learning_rate=globaLlr,\n",
    "           epochs=globalEpochs,\n",
    "           optimizer=adamOpt,\n",
    "           loss_fn=lossCross,\n",
    "           eval_steps=3,\n",
    "           device=device,\n",
    "           log_dir='..\\\\trained_models\\\\BRBSequentialLow\\\\'\n",
    "           )"
   ]
  },
  {
   "cell_type": "code",
   "execution_count": 23,
   "metadata": {},
   "outputs": [
    {
     "name": "stderr",
     "output_type": "stream",
     "text": [
      "2022-05-19 10:25:42.557 | INFO     | Training.trainer:RunTrainer:71 - Logging to ..\\trained_models\\BRBSequentialHigh\\20220519-1025\n"
     ]
    },
    {
     "name": "stdout",
     "output_type": "stream",
     "text": [
      "BRBSequentialHigh(\n",
      "  (dense): Sequential(\n",
      "    (0): Flatten(start_dim=1, end_dim=-1)\n",
      "    (1): Linear(in_features=784, out_features=784, bias=True)\n",
      "    (2): ReLU()\n",
      "    (3): Linear(in_features=784, out_features=784, bias=True)\n",
      "    (4): ReLU()\n",
      "    (5): Linear(in_features=784, out_features=784, bias=True)\n",
      "    (6): ReLU()\n",
      "    (7): Linear(in_features=784, out_features=784, bias=True)\n",
      "    (8): ReLU()\n",
      "    (9): Linear(in_features=784, out_features=784, bias=True)\n",
      "    (10): ReLU()\n",
      "    (11): Linear(in_features=784, out_features=784, bias=True)\n",
      "    (12): ReLU()\n",
      "    (13): Linear(in_features=784, out_features=392, bias=True)\n",
      "    (14): ReLU()\n",
      "    (15): Linear(in_features=392, out_features=10, bias=True)\n",
      "  )\n",
      ")\n",
      "..\\trained_models\\BRBSequentialHigh\n",
      "Epoch : 0 - train loss =0.035985493286450704\n",
      "testloss :0.035940914104382195 -  test accuracy :0.1145833358168602\n",
      "Epoch : 1 - train loss =0.03582356862624486\n",
      "testloss :0.03502980122963587 -  test accuracy :0.3958333432674408\n",
      "Epoch : 2 - train loss =0.023293038230141005\n",
      "testloss :0.017011804195741814 -  test accuracy :0.5572916865348816\n",
      "Epoch : 3 - train loss =0.015031729731957117\n",
      "testloss :0.013945518371959528 -  test accuracy :0.6458333730697632\n",
      "Epoch : 4 - train loss =0.011818116426467896\n",
      "testloss :0.012417211197316647 -  test accuracy :0.7083333730697632\n",
      "Epoch : 5 - train loss =0.009506270176668961\n",
      "testloss :0.009130197732398907 -  test accuracy :0.7708333730697632\n",
      "Epoch : 6 - train loss =0.008254477518300215\n",
      "testloss :0.008595741353929043 -  test accuracy :0.7916666865348816\n",
      "Epoch : 7 - train loss =0.0074361462046702706\n",
      "testloss :0.00809641694650054 -  test accuracy :0.8177083730697632\n",
      "Epoch : 8 - train loss =0.006785762889186541\n",
      "testloss :0.007042632283022006 -  test accuracy :0.8229166865348816\n",
      "Epoch : 9 - train loss =0.006331814647714297\n",
      "testloss :0.00732129563887914 -  test accuracy :0.8645833730697632\n",
      "Epoch : 10 - train loss =0.005877710680911938\n",
      "testloss :0.008083641373862823 -  test accuracy :0.8541666865348816\n",
      "Epoch : 11 - train loss =0.005507395367076\n",
      "testloss :0.007873665075749159 -  test accuracy :0.796875\n",
      "Epoch : 12 - train loss =0.0051888091170539455\n",
      "testloss :0.008272148668766022 -  test accuracy :0.84375\n",
      "Epoch : 13 - train loss =0.004959037677322825\n",
      "testloss :0.003969358513131738 -  test accuracy :0.9114583730697632\n",
      "Epoch : 14 - train loss =0.004759422144417961\n",
      "testloss :0.005659180227667093 -  test accuracy :0.875\n",
      "Epoch : 15 - train loss =0.004548953173557917\n",
      "testloss :0.006502519982556502 -  test accuracy :0.8177083730697632\n",
      "Epoch : 16 - train loss =0.00436840941136082\n",
      "testloss :0.00565699200766782 -  test accuracy :0.890625\n",
      "Epoch : 17 - train loss =0.004393016521756847\n",
      "testloss :0.005586366945256789 -  test accuracy :0.8697916865348816\n",
      "Epoch : 18 - train loss =0.004071453672399123\n",
      "testloss :0.007285131607204676 -  test accuracy :0.8489583730697632\n",
      "Epoch : 19 - train loss =0.003917372657606999\n",
      "testloss :0.006574288010597229 -  test accuracy :0.8489583730697632\n",
      "Epoch : 20 - train loss =0.0037704838819801806\n",
      "testloss :0.006932722094158332 -  test accuracy :0.859375\n",
      "Epoch : 21 - train loss =0.003720650681356589\n",
      "testloss :0.008824030713488659 -  test accuracy :0.8489583730697632\n",
      "Epoch : 22 - train loss =0.0035739867728824416\n",
      "testloss :0.0068230899050831795 -  test accuracy :0.8645833730697632\n",
      "Epoch : 23 - train loss =0.0034958789221321545\n",
      "testloss :0.003552319404358665 -  test accuracy :0.9166666865348816\n",
      "Epoch : 24 - train loss =0.003342332031143208\n",
      "testloss :0.007359933108091354 -  test accuracy :0.8385416865348816\n",
      "Epoch : 25 - train loss =0.003277229154140999\n",
      "testloss :0.006162651814520359 -  test accuracy :0.8645833730697632\n",
      "Epoch : 26 - train loss =0.003178810812222461\n",
      "testloss :0.00581051471332709 -  test accuracy :0.8541666865348816\n",
      "Epoch : 27 - train loss =0.003262730555670957\n",
      "testloss :0.005687208070109288 -  test accuracy :0.890625\n",
      "Epoch : 28 - train loss =0.0030631896814331413\n",
      "testloss :0.005830793796728055 -  test accuracy :0.8854166865348816\n",
      "Epoch : 29 - train loss =0.00292602412380899\n",
      "testloss :0.005252577054003875 -  test accuracy :0.8802083730697632\n",
      "Epoch : 30 - train loss =0.0029143996932854254\n",
      "testloss :0.004385174096872409 -  test accuracy :0.90625\n",
      "Epoch : 31 - train loss =0.0027945448046860595\n",
      "testloss :0.008462666533887386 -  test accuracy :0.84375\n",
      "Epoch : 32 - train loss =0.0027639993473887446\n",
      "testloss :0.00755547018100818 -  test accuracy :0.8802083730697632\n",
      "Epoch : 33 - train loss =0.0026443756488151848\n",
      "testloss :0.010011420585215092 -  test accuracy :0.828125\n",
      "Epoch : 34 - train loss =0.0025636276859169207\n",
      "testloss :0.004668982660708328 -  test accuracy :0.921875\n",
      "Epoch : 35 - train loss =0.0024768255352663497\n",
      "testloss :0.0058480920270085335 -  test accuracy :0.8854166865348816\n",
      "Epoch : 36 - train loss =0.0024251557001533607\n",
      "testloss :0.0046309169847518206 -  test accuracy :0.9114583730697632\n",
      "Epoch : 37 - train loss =0.0024189563953628144\n",
      "testloss :0.009892246996363005 -  test accuracy :0.84375\n",
      "Epoch : 38 - train loss =0.0023637365651937824\n",
      "testloss :0.006175370421260595 -  test accuracy :0.8697916865348816\n",
      "Epoch : 39 - train loss =0.0022587838312300543\n",
      "testloss :0.006608462582031886 -  test accuracy :0.8802083730697632\n",
      "Epoch : 40 - train loss =0.0024963795649819076\n",
      "testloss :0.006506124356140693 -  test accuracy :0.8802083730697632\n",
      "Epoch : 41 - train loss =0.0021455433938652275\n",
      "testloss :0.0031055993555734553 -  test accuracy :0.9270833730697632\n",
      "Epoch : 42 - train loss =0.0020765106371603906\n",
      "testloss :0.006714535101006429 -  test accuracy :0.90625\n",
      "Epoch : 43 - train loss =0.002023437147773802\n",
      "testloss :0.0053648087196052074 -  test accuracy :0.890625\n",
      "Epoch : 44 - train loss =0.0019605802939273416\n",
      "testloss :0.005737108100826542 -  test accuracy :0.8802083730697632\n",
      "Epoch : 45 - train loss =0.0018969010430853813\n",
      "testloss :0.0068079450478156405 -  test accuracy :0.8958333730697632\n",
      "Epoch : 46 - train loss =0.001876491042630126\n",
      "testloss :0.0042566491368537145 -  test accuracy :0.9166666865348816\n",
      "Epoch : 47 - train loss =0.0018645683045033366\n",
      "testloss :0.010321242734789848 -  test accuracy :0.8333333730697632\n",
      "Epoch : 48 - train loss =0.0018467540609650313\n",
      "testloss :0.00517287221737206 -  test accuracy :0.8958333730697632\n",
      "Epoch : 49 - train loss =0.001722880039162313\n",
      "testloss :0.006331855586419503 -  test accuracy :0.859375\n"
     ]
    }
   ],
   "source": [
    "from Models.LineairModelCollection import BRBSequentialHigh  \n",
    "\n",
    "model = BRBSequentialHigh().to(device)\n",
    "model.cuda()\n",
    "print(model)\n",
    "\n",
    "from Training.trainer import RunTrainer\n",
    "import torch.optim as optim\n",
    "adamOpt = optim.Adam\n",
    "lossCross = torch.nn.CrossEntropyLoss()\n",
    "lossCross.cuda()\n",
    "\n",
    "RunTrainer(model=model, \n",
    "           train_dataloader=train_dataloader,\n",
    "           test_dataloader=test_dataloader,\n",
    "           learning_rate=globaLlr,\n",
    "           epochs=globalEpochs,\n",
    "           optimizer=adamOpt,\n",
    "           loss_fn=lossCross,\n",
    "           eval_steps=3,\n",
    "           device=device,\n",
    "           log_dir='..\\\\trained_models\\\\BRBSequentialHigh\\\\'\n",
    "           )"
   ]
  },
  {
   "cell_type": "code",
   "execution_count": 25,
   "metadata": {},
   "outputs": [
    {
     "name": "stderr",
     "output_type": "stream",
     "text": [
      "2022-05-19 10:39:18.867 | INFO     | Training.trainer:RunTrainer:71 - Logging to ..\\trained_models\\BRBSequentialVariable\\20220519-1039\n"
     ]
    },
    {
     "name": "stdout",
     "output_type": "stream",
     "text": [
      "BRBSequentialVariable(\n",
      "  (lin): Sequential(\n",
      "    (0): Flatten(start_dim=1, end_dim=-1)\n",
      "    (1): Linear(in_features=784, out_features=392, bias=True)\n",
      "    (2): ReLU()\n",
      "    (3): Linear(in_features=392, out_features=32, bias=True)\n",
      "    (4): ReLU()\n",
      "    (5): Linear(in_features=32, out_features=128, bias=True)\n",
      "    (6): ReLU()\n",
      "    (7): Linear(in_features=128, out_features=10, bias=True)\n",
      "  )\n",
      ")\n",
      "..\\trained_models\\BRBSequentialVariable\n",
      "Epoch : 0 - train loss =0.020238319760064283\n",
      "testloss :0.012190469540655613 -  test accuracy :0.7447916865348816\n",
      "Epoch : 1 - train loss =0.009823109410703182\n",
      "testloss :0.009818113098541895 -  test accuracy :0.7604166865348816\n",
      "Epoch : 2 - train loss =0.008150520510723194\n",
      "testloss :0.010612791714568933 -  test accuracy :0.71875\n",
      "Epoch : 3 - train loss =0.0074335506250460944\n",
      "testloss :0.00871768438567718 -  test accuracy :0.7916666865348816\n",
      "Epoch : 4 - train loss =0.006866259005665779\n",
      "testloss :0.007634640360871951 -  test accuracy :0.84375\n",
      "Epoch : 5 - train loss =0.006522035367290179\n",
      "testloss :0.007086103471616904 -  test accuracy :0.8229166865348816\n",
      "Epoch : 6 - train loss =0.006175882810354233\n",
      "testloss :0.0067195418911675615 -  test accuracy :0.84375\n",
      "Epoch : 7 - train loss =0.005906182331716021\n",
      "testloss :0.0072326633768777055 -  test accuracy :0.84375\n",
      "Epoch : 8 - train loss =0.005664071700970332\n",
      "testloss :0.0062058970021704836 -  test accuracy :0.8385416865348816\n",
      "Epoch : 9 - train loss =0.005439705180873474\n",
      "testloss :0.005134514843424161 -  test accuracy :0.875\n",
      "Epoch : 10 - train loss =0.0052629712314655385\n",
      "testloss :0.004813319693009059 -  test accuracy :0.8958333730697632\n",
      "Epoch : 11 - train loss =0.005084686214476824\n",
      "testloss :0.0062758491064111395 -  test accuracy :0.8802083730697632\n",
      "Epoch : 12 - train loss =0.004975604030117393\n",
      "testloss :0.005633912204454343 -  test accuracy :0.875\n",
      "Epoch : 13 - train loss =0.004812662490581473\n",
      "testloss :0.005326698534190655 -  test accuracy :0.8802083730697632\n",
      "Epoch : 14 - train loss =0.004678951927398642\n",
      "testloss :0.005308227613568306 -  test accuracy :0.859375\n",
      "Epoch : 15 - train loss =0.004575264522184928\n",
      "testloss :0.007081569793323676 -  test accuracy :0.8229166865348816\n",
      "Epoch : 16 - train loss =0.0044577939966072636\n",
      "testloss :0.0034392915355662503 -  test accuracy :0.9375\n",
      "Epoch : 17 - train loss =0.004373578368872404\n",
      "testloss :0.00654078663016359 -  test accuracy :0.8697916865348816\n",
      "Epoch : 18 - train loss =0.004276330232620239\n",
      "testloss :0.0049080930184572935 -  test accuracy :0.8854166865348816\n",
      "Epoch : 19 - train loss =0.004179833775448303\n",
      "testloss :0.004460896831005812 -  test accuracy :0.8645833730697632\n",
      "Epoch : 20 - train loss =0.004086585869267583\n",
      "testloss :0.0057676369324326515 -  test accuracy :0.8645833730697632\n",
      "Epoch : 21 - train loss =0.004028773733476798\n",
      "testloss :0.005298615588496129 -  test accuracy :0.875\n",
      "Epoch : 22 - train loss =0.003935341817140579\n",
      "testloss :0.004741104630132516 -  test accuracy :0.90625\n",
      "Epoch : 23 - train loss =0.003862369250009457\n",
      "testloss :0.004860580122719209 -  test accuracy :0.8958333730697632\n",
      "Epoch : 24 - train loss =0.0037795166479423644\n",
      "testloss :0.006594636322309573 -  test accuracy :0.8333333730697632\n",
      "Epoch : 25 - train loss =0.003709760645776987\n",
      "testloss :0.0057777973512808485 -  test accuracy :0.8541666865348816\n",
      "Epoch : 26 - train loss =0.0036336756703754265\n",
      "testloss :0.0042719081199417515 -  test accuracy :0.9010416865348816\n",
      "Epoch : 27 - train loss =0.0035787278490761916\n",
      "testloss :0.004368799971416593 -  test accuracy :0.90625\n",
      "Epoch : 28 - train loss =0.003492959895854195\n",
      "testloss :0.00575923112531503 -  test accuracy :0.875\n",
      "Epoch : 29 - train loss =0.003443208960319559\n",
      "testloss :0.004380966691921155 -  test accuracy :0.8958333730697632\n",
      "Epoch : 30 - train loss =0.003372401592694223\n",
      "testloss :0.007466203377892573 -  test accuracy :0.8489583730697632\n",
      "Epoch : 31 - train loss =0.0032964312832802533\n",
      "testloss :0.00498531199991703 -  test accuracy :0.8854166865348816\n",
      "Epoch : 32 - train loss =0.003239517385450502\n",
      "testloss :0.005918102028469245 -  test accuracy :0.8697916865348816\n",
      "Epoch : 33 - train loss =0.0031843793400873743\n",
      "testloss :0.0069643002934753895 -  test accuracy :0.828125\n",
      "Epoch : 34 - train loss =0.0031217421426748236\n",
      "testloss :0.004868923065563043 -  test accuracy :0.875\n",
      "Epoch : 35 - train loss =0.003082558601970474\n",
      "testloss :0.007765682879835367 -  test accuracy :0.84375\n",
      "Epoch : 36 - train loss =0.0030385989531253777\n",
      "testloss :0.004716896452009678 -  test accuracy :0.9114583730697632\n",
      "Epoch : 37 - train loss =0.002989833955342571\n",
      "testloss :0.004761098728825648 -  test accuracy :0.90625\n",
      "Epoch : 38 - train loss =0.0028893493223624924\n",
      "testloss :0.004965606145560741 -  test accuracy :0.8854166865348816\n",
      "Epoch : 39 - train loss =0.002845976331581672\n",
      "testloss :0.0043803914450109005 -  test accuracy :0.8802083730697632\n",
      "Epoch : 40 - train loss =0.0028273873233546814\n",
      "testloss :0.006768016222243507 -  test accuracy :0.8802083730697632\n",
      "Epoch : 41 - train loss =0.002759604095791777\n",
      "testloss :0.005057746699700753 -  test accuracy :0.8802083730697632\n",
      "Epoch : 42 - train loss =0.002710218918509781\n",
      "testloss :0.004403521617253621 -  test accuracy :0.9114583730697632\n",
      "Epoch : 43 - train loss =0.002638061123092969\n",
      "testloss :0.005383320773641269 -  test accuracy :0.9010416865348816\n",
      "Epoch : 44 - train loss =0.002620888313402732\n",
      "testloss :0.009512541660418114 -  test accuracy :0.8229166865348816\n",
      "Epoch : 45 - train loss =0.002541009546381732\n",
      "testloss :0.00676139382024606 -  test accuracy :0.890625\n",
      "Epoch : 46 - train loss =0.0025498948343719045\n",
      "testloss :0.005643238158275683 -  test accuracy :0.8333333730697632\n",
      "Epoch : 47 - train loss =0.002487190766601513\n",
      "testloss :0.005678624535600345 -  test accuracy :0.890625\n",
      "Epoch : 48 - train loss =0.00244077560948208\n",
      "testloss :0.0033330251462757587 -  test accuracy :0.921875\n",
      "Epoch : 49 - train loss =0.0023652345405425876\n",
      "testloss :0.005682297671834628 -  test accuracy :0.8802083730697632\n"
     ]
    }
   ],
   "source": [
    "from Models.LineairModelCollection import BRBSequentialVariable\n",
    "\n",
    "model = BRBSequentialVariable().to(device)\n",
    "model.cuda()\n",
    "print(model)\n",
    "\n",
    "from Training.trainer import RunTrainer\n",
    "import torch.optim as optim\n",
    "adamOpt = optim.Adam\n",
    "lossCross = torch.nn.CrossEntropyLoss()\n",
    "lossCross.cuda()\n",
    "\n",
    "RunTrainer(model=model, \n",
    "           train_dataloader=train_dataloader,\n",
    "           test_dataloader=test_dataloader,\n",
    "           learning_rate=globaLlr,\n",
    "           epochs=globalEpochs,\n",
    "           optimizer=adamOpt,\n",
    "           loss_fn=lossCross,\n",
    "           eval_steps=3,\n",
    "           device=device,\n",
    "           log_dir='..\\\\trained_models\\\\BRBSequentialVariable\\\\'\n",
    "           )"
   ]
  }
 ],
 "metadata": {
  "interpreter": {
   "hash": "69855e6a671ebbae22bded53bf54a2e55965db9df64dc0686841d36ea41951c3"
  },
  "kernelspec": {
   "display_name": "Python 3.10.4 64-bit",
   "language": "python",
   "name": "python3"
  },
  "language_info": {
   "codemirror_mode": {
    "name": "ipython",
    "version": 3
   },
   "file_extension": ".py",
   "mimetype": "text/x-python",
   "name": "python",
   "nbconvert_exporter": "python",
   "pygments_lexer": "ipython3",
   "version": "3.10.4"
  },
  "orig_nbformat": 4
 },
 "nbformat": 4,
 "nbformat_minor": 2
}
